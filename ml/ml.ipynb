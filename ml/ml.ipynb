{
 "cells": [
  {
   "cell_type": "code",
   "execution_count": 57,
   "id": "6b7ce70c",
   "metadata": {},
   "outputs": [
    {
     "ename": "TypeError",
     "evalue": "'Series' object is not callable",
     "output_type": "error",
     "traceback": [
      "\u001b[1;31m---------------------------------------------------------------------------\u001b[0m",
      "\u001b[1;31mTypeError\u001b[0m                                 Traceback (most recent call last)",
      "\u001b[1;32m~\\AppData\\Local\\Temp/ipykernel_59860/2168252479.py\u001b[0m in \u001b[0;36m<module>\u001b[1;34m\u001b[0m\n\u001b[0;32m     11\u001b[0m \u001b[0mdt\u001b[0m\u001b[1;33m=\u001b[0m\u001b[0mdt1\u001b[0m\u001b[1;33m.\u001b[0m\u001b[0mdrop\u001b[0m\u001b[1;33m(\u001b[0m\u001b[0mdt1\u001b[0m\u001b[1;33m.\u001b[0m\u001b[0mindex\u001b[0m\u001b[1;33m[\u001b[0m\u001b[1;33m[\u001b[0m\u001b[1;36m55\u001b[0m\u001b[1;33m,\u001b[0m \u001b[1;36m85\u001b[0m\u001b[1;33m,\u001b[0m \u001b[1;36m110\u001b[0m\u001b[1;33m,\u001b[0m\u001b[1;36m112\u001b[0m\u001b[1;33m,\u001b[0m\u001b[1;36m125\u001b[0m\u001b[1;33m,\u001b[0m\u001b[1;36m155\u001b[0m\u001b[1;33m,\u001b[0m\u001b[1;36m167\u001b[0m\u001b[1;33m,\u001b[0m\u001b[1;36m192\u001b[0m\u001b[1;33m,\u001b[0m\u001b[1;36m210\u001b[0m\u001b[1;33m,\u001b[0m\u001b[1;36m239\u001b[0m\u001b[1;33m,\u001b[0m\u001b[1;36m242\u001b[0m\u001b[1;33m]\u001b[0m\u001b[1;33m]\u001b[0m\u001b[1;33m)\u001b[0m\u001b[1;33m\u001b[0m\u001b[1;33m\u001b[0m\u001b[0m\n\u001b[0;32m     12\u001b[0m \u001b[0mdt\u001b[0m\u001b[1;33m\u001b[0m\u001b[1;33m\u001b[0m\u001b[0m\n\u001b[1;32m---> 13\u001b[1;33m \u001b[0miris\u001b[0m \u001b[1;33m=\u001b[0m \u001b[0mdt\u001b[0m\u001b[1;33m.\u001b[0m\u001b[0mRSSI\u001b[0m\u001b[1;33m(\u001b[0m\u001b[1;33m)\u001b[0m\u001b[1;33m\u001b[0m\u001b[1;33m\u001b[0m\u001b[0m\n\u001b[0m\u001b[0;32m     14\u001b[0m \u001b[1;31m#dt=dt1.drop(dt1.index[[291, 85, ,89 , 110,112, 113, 704, 239,242, 240, 254, 259]])\u001b[0m\u001b[1;33m\u001b[0m\u001b[1;33m\u001b[0m\u001b[0m\n",
      "\u001b[1;31mTypeError\u001b[0m: 'Series' object is not callable"
     ]
    }
   ],
   "source": [
    "import pandas as pd\n",
    "import numpy as np\n",
    "import matplotlib.pyplot as plt\n",
    "from sklearn.neighbors import KNeighborsClassifier\n",
    "from sklearn.linear_model import LinearRegression \n",
    "from sklearn.model_selection import cross_val_score\n",
    "from sklearn import tree\n",
    "# reading csv file\n",
    "dt1 = pd.read_csv(\"1.5m1.csv\")\n",
    "dt1\n",
    "dt=dt1.drop(dt1.index[[55, 85, 110,112,125,155,167,192,210,239,242]])\n",
    "dt\n",
    "#dt=dt1.drop(dt1.index[[291, 85, ,89 , 110,112, 113, 704, 239,242, 240, 254, 259]])"
   ]
  },
  {
   "cell_type": "code",
   "execution_count": null,
   "id": "8f7f77c3",
   "metadata": {},
   "outputs": [],
   "source": []
  },
  {
   "cell_type": "code",
   "execution_count": 3,
   "id": "cc57cac9",
   "metadata": {
    "scrolled": true
   },
   "outputs": [
    {
     "data": {
      "text/plain": [
       "[[-73],\n",
       " [-74],\n",
       " [-75],\n",
       " [-74],\n",
       " [-71],\n",
       " [-74],\n",
       " [-73],\n",
       " [-72],\n",
       " [-77],\n",
       " [-73],\n",
       " [-71],\n",
       " [-75],\n",
       " [-73],\n",
       " [-72],\n",
       " [-74],\n",
       " [-74],\n",
       " [-73],\n",
       " [-72],\n",
       " [-74],\n",
       " [-76],\n",
       " [-73],\n",
       " [-77],\n",
       " [-76],\n",
       " [-72],\n",
       " [-74],\n",
       " [-77],\n",
       " [-73],\n",
       " [-76],\n",
       " [-74],\n",
       " [-81],\n",
       " [-78],\n",
       " [-79],\n",
       " [-84],\n",
       " [-82],\n",
       " [-83],\n",
       " [-79],\n",
       " [-76],\n",
       " [-80],\n",
       " [-87],\n",
       " [-81],\n",
       " [-83],\n",
       " [-85],\n",
       " [-84],\n",
       " [-87],\n",
       " [-81],\n",
       " [-80],\n",
       " [-76],\n",
       " [-81],\n",
       " [-88],\n",
       " [-79],\n",
       " [-79],\n",
       " [-82],\n",
       " [-90],\n",
       " [-86],\n",
       " [-90],\n",
       " [-87],\n",
       " [-84],\n",
       " [-79],\n",
       " [-78],\n",
       " [-78],\n",
       " [-79],\n",
       " [-74],\n",
       " [-79],\n",
       " [-75],\n",
       " [-75],\n",
       " [-73],\n",
       " [-80],\n",
       " [-81],\n",
       " [-79],\n",
       " [-76],\n",
       " [-79],\n",
       " [-80],\n",
       " [-76],\n",
       " [-80],\n",
       " [-77],\n",
       " [-75],\n",
       " [-76],\n",
       " [-84],\n",
       " [-81],\n",
       " [-75],\n",
       " [-77],\n",
       " [-80],\n",
       " [-80],\n",
       " [-83],\n",
       " [-82],\n",
       " [-93],\n",
       " [-87],\n",
       " [-104],\n",
       " [-81],\n",
       " [-86],\n",
       " [-86],\n",
       " [-88],\n",
       " [-84],\n",
       " [-90],\n",
       " [-98],\n",
       " [-87],\n",
       " [-95],\n",
       " [-92],\n",
       " [-89],\n",
       " [-98],\n",
       " [-80],\n",
       " [-96],\n",
       " [-92],\n",
       " [-98],\n",
       " [-91],\n",
       " [-87],\n",
       " [-90],\n",
       " [-87],\n",
       " [-84],\n",
       " [-102],\n",
       " [-92],\n",
       " [-95],\n",
       " [-89],\n",
       " [-93],\n",
       " [-98],\n",
       " [-95],\n",
       " [-98],\n",
       " [-88],\n",
       " [-86],\n",
       " [-89],\n",
       " [-96],\n",
       " [-89],\n",
       " [-88],\n",
       " [-92],\n",
       " [-97],\n",
       " [-97],\n",
       " [-85],\n",
       " [-88],\n",
       " [-87],\n",
       " [-96],\n",
       " [-88],\n",
       " [-91],\n",
       " [-99],\n",
       " [-96],\n",
       " [-86],\n",
       " [-86],\n",
       " [-94],\n",
       " [-85],\n",
       " [-87],\n",
       " [-93],\n",
       " [-93],\n",
       " [-89],\n",
       " [-86],\n",
       " [-90],\n",
       " [-92],\n",
       " [-93],\n",
       " [-92],\n",
       " [-90],\n",
       " [-88],\n",
       " [-96],\n",
       " [-87],\n",
       " [-97],\n",
       " [-87],\n",
       " [-91],\n",
       " [-88],\n",
       " [-91],\n",
       " [-86],\n",
       " [-90],\n",
       " [-89],\n",
       " [-86],\n",
       " [-94],\n",
       " [-83],\n",
       " [-85],\n",
       " [-90],\n",
       " [-93],\n",
       " [-91],\n",
       " [-92],\n",
       " [-88],\n",
       " [-89],\n",
       " [-85],\n",
       " [-87],\n",
       " [-88],\n",
       " [-88],\n",
       " [-92],\n",
       " [-91],\n",
       " [-93],\n",
       " [-95],\n",
       " [-83],\n",
       " [-93],\n",
       " [-86],\n",
       " [-89],\n",
       " [-83],\n",
       " [-88],\n",
       " [-95],\n",
       " [-84],\n",
       " [-91],\n",
       " [-87],\n",
       " [-93],\n",
       " [-89],\n",
       " [-85],\n",
       " [-92],\n",
       " [-88],\n",
       " [-89],\n",
       " [-91],\n",
       " [-90],\n",
       " [-90],\n",
       " [-87],\n",
       " [-84],\n",
       " [-93],\n",
       " [-83],\n",
       " [-84],\n",
       " [-84],\n",
       " [-89],\n",
       " [-88],\n",
       " [-85],\n",
       " [-89],\n",
       " [-90],\n",
       " [-83],\n",
       " [-88],\n",
       " [-89],\n",
       " [-88],\n",
       " [-83],\n",
       " [-90],\n",
       " [-87],\n",
       " [-95],\n",
       " [-88],\n",
       " [-90],\n",
       " [-91],\n",
       " [-84],\n",
       " [-85],\n",
       " [-94],\n",
       " [-91],\n",
       " [-89],\n",
       " [-85],\n",
       " [-85],\n",
       " [-84],\n",
       " [-87],\n",
       " [-85],\n",
       " [-85],\n",
       " [-93],\n",
       " [-97],\n",
       " [-86],\n",
       " [-86],\n",
       " [-84],\n",
       " [-87],\n",
       " [-85],\n",
       " [-84],\n",
       " [-88],\n",
       " [-82],\n",
       " [-86],\n",
       " [-88],\n",
       " [-92],\n",
       " [-87],\n",
       " [-100],\n",
       " [-86],\n",
       " [-94],\n",
       " [-91],\n",
       " [-92],\n",
       " [-96],\n",
       " [-79]]"
      ]
     },
     "execution_count": 3,
     "metadata": {},
     "output_type": "execute_result"
    }
   ],
   "source": [
    "RSSI = np.array(dt['RSSI'])\n",
    "RSSI\n",
    "RSSI = [[i] for i in RSSI]\n",
    "RSSI"
   ]
  },
  {
   "cell_type": "code",
   "execution_count": 4,
   "id": "dc3c973f",
   "metadata": {},
   "outputs": [
    {
     "data": {
      "text/plain": [
       "[[1.0],\n",
       " [1.0],\n",
       " [1.0],\n",
       " [1.0],\n",
       " [1.0],\n",
       " [1.0],\n",
       " [1.0],\n",
       " [1.0],\n",
       " [1.0],\n",
       " [1.0],\n",
       " [1.0],\n",
       " [1.0],\n",
       " [1.0],\n",
       " [1.0],\n",
       " [1.0],\n",
       " [1.0],\n",
       " [1.0],\n",
       " [1.0],\n",
       " [1.0],\n",
       " [1.0],\n",
       " [1.0],\n",
       " [1.0],\n",
       " [1.0],\n",
       " [1.0],\n",
       " [1.0],\n",
       " [1.0],\n",
       " [1.0],\n",
       " [1.0],\n",
       " [1.0],\n",
       " [1.5],\n",
       " [1.5],\n",
       " [1.5],\n",
       " [1.5],\n",
       " [1.5],\n",
       " [1.5],\n",
       " [1.5],\n",
       " [1.5],\n",
       " [1.5],\n",
       " [1.5],\n",
       " [1.5],\n",
       " [1.5],\n",
       " [1.5],\n",
       " [1.5],\n",
       " [1.5],\n",
       " [1.5],\n",
       " [1.5],\n",
       " [1.5],\n",
       " [1.5],\n",
       " [1.5],\n",
       " [1.5],\n",
       " [1.5],\n",
       " [1.5],\n",
       " [1.5],\n",
       " [1.5],\n",
       " [1.5],\n",
       " [1.5],\n",
       " [1.5],\n",
       " [1.7],\n",
       " [1.7],\n",
       " [1.7],\n",
       " [1.7],\n",
       " [1.7],\n",
       " [1.7],\n",
       " [1.7],\n",
       " [1.7],\n",
       " [1.7],\n",
       " [1.7],\n",
       " [1.7],\n",
       " [1.7],\n",
       " [1.7],\n",
       " [1.7],\n",
       " [1.7],\n",
       " [1.7],\n",
       " [1.7],\n",
       " [1.7],\n",
       " [1.7],\n",
       " [1.7],\n",
       " [1.7],\n",
       " [1.7],\n",
       " [1.7],\n",
       " [1.7],\n",
       " [1.7],\n",
       " [1.7],\n",
       " [1.7],\n",
       " [1.7],\n",
       " [1.8],\n",
       " [1.8],\n",
       " [1.8],\n",
       " [1.8],\n",
       " [1.8],\n",
       " [1.8],\n",
       " [1.8],\n",
       " [1.8],\n",
       " [1.8],\n",
       " [1.8],\n",
       " [1.8],\n",
       " [1.8],\n",
       " [1.8],\n",
       " [1.8],\n",
       " [1.8],\n",
       " [1.8],\n",
       " [1.8],\n",
       " [1.8],\n",
       " [1.8],\n",
       " [1.8],\n",
       " [1.8],\n",
       " [1.8],\n",
       " [1.8],\n",
       " [1.8],\n",
       " [1.8],\n",
       " [1.8],\n",
       " [1.8],\n",
       " [1.9],\n",
       " [1.9],\n",
       " [1.9],\n",
       " [1.9],\n",
       " [1.9],\n",
       " [1.9],\n",
       " [1.9],\n",
       " [1.9],\n",
       " [1.9],\n",
       " [1.9],\n",
       " [1.9],\n",
       " [1.9],\n",
       " [1.9],\n",
       " [1.9],\n",
       " [1.9],\n",
       " [1.9],\n",
       " [1.9],\n",
       " [1.9],\n",
       " [1.9],\n",
       " [1.9],\n",
       " [1.9],\n",
       " [1.9],\n",
       " [1.9],\n",
       " [1.9],\n",
       " [1.9],\n",
       " [1.9],\n",
       " [1.9],\n",
       " [1.9],\n",
       " [2.0],\n",
       " [2.0],\n",
       " [2.0],\n",
       " [2.0],\n",
       " [2.0],\n",
       " [2.0],\n",
       " [2.0],\n",
       " [2.0],\n",
       " [2.0],\n",
       " [2.0],\n",
       " [2.0],\n",
       " [2.0],\n",
       " [2.0],\n",
       " [2.0],\n",
       " [2.0],\n",
       " [2.0],\n",
       " [2.0],\n",
       " [2.0],\n",
       " [2.0],\n",
       " [2.0],\n",
       " [2.0],\n",
       " [2.0],\n",
       " [2.0],\n",
       " [2.0],\n",
       " [2.0],\n",
       " [2.0],\n",
       " [2.0],\n",
       " [2.1],\n",
       " [2.1],\n",
       " [2.1],\n",
       " [2.1],\n",
       " [2.1],\n",
       " [2.1],\n",
       " [2.1],\n",
       " [2.1],\n",
       " [2.1],\n",
       " [2.1],\n",
       " [2.1],\n",
       " [2.1],\n",
       " [2.1],\n",
       " [2.1],\n",
       " [2.1],\n",
       " [2.1],\n",
       " [2.1],\n",
       " [2.1],\n",
       " [2.1],\n",
       " [2.1],\n",
       " [2.1],\n",
       " [2.1],\n",
       " [2.1],\n",
       " [2.1],\n",
       " [2.1],\n",
       " [2.1],\n",
       " [2.1],\n",
       " [2.1],\n",
       " [2.2],\n",
       " [2.2],\n",
       " [2.2],\n",
       " [2.2],\n",
       " [2.2],\n",
       " [2.2],\n",
       " [2.2],\n",
       " [2.2],\n",
       " [2.2],\n",
       " [2.2],\n",
       " [2.2],\n",
       " [2.2],\n",
       " [2.2],\n",
       " [2.2],\n",
       " [2.2],\n",
       " [2.2],\n",
       " [2.2],\n",
       " [2.2],\n",
       " [2.2],\n",
       " [2.2],\n",
       " [2.2],\n",
       " [2.2],\n",
       " [2.2],\n",
       " [2.2],\n",
       " [2.2],\n",
       " [2.2],\n",
       " [2.2],\n",
       " [2.2],\n",
       " [2.5],\n",
       " [2.5],\n",
       " [2.5],\n",
       " [2.5],\n",
       " [2.5],\n",
       " [2.5],\n",
       " [2.5],\n",
       " [2.5],\n",
       " [2.5],\n",
       " [2.5],\n",
       " [2.5],\n",
       " [2.5],\n",
       " [2.5],\n",
       " [2.5],\n",
       " [2.5],\n",
       " [2.5],\n",
       " [2.5],\n",
       " [2.5],\n",
       " [2.5],\n",
       " [2.5],\n",
       " [2.5],\n",
       " [2.5],\n",
       " [2.5],\n",
       " [2.5],\n",
       " [2.5],\n",
       " [2.5],\n",
       " [2.5]]"
      ]
     },
     "execution_count": 4,
     "metadata": {},
     "output_type": "execute_result"
    }
   ],
   "source": [
    "distance = np.array(dt[\"distance\"])\n",
    "distance = [[i] for i in distance]\n",
    "distance"
   ]
  },
  {
   "cell_type": "code",
   "execution_count": 5,
   "id": "36b2cf9d",
   "metadata": {},
   "outputs": [
    {
     "data": {
      "text/plain": [
       "[['buzzer'],\n",
       " ['buzzer'],\n",
       " ['buzzer'],\n",
       " ['buzzer'],\n",
       " ['buzzer'],\n",
       " ['buzzer'],\n",
       " ['buzzer'],\n",
       " ['buzzer'],\n",
       " ['buzzer'],\n",
       " ['buzzer'],\n",
       " ['buzzer'],\n",
       " ['buzzer'],\n",
       " ['buzzer'],\n",
       " ['buzzer'],\n",
       " ['buzzer'],\n",
       " ['buzzer'],\n",
       " ['buzzer'],\n",
       " ['buzzer'],\n",
       " ['buzzer'],\n",
       " ['buzzer'],\n",
       " ['buzzer'],\n",
       " ['buzzer'],\n",
       " ['buzzer'],\n",
       " ['buzzer'],\n",
       " ['buzzer'],\n",
       " ['buzzer'],\n",
       " ['buzzer'],\n",
       " ['buzzer'],\n",
       " ['buzzer'],\n",
       " ['buzzer'],\n",
       " ['buzzer'],\n",
       " ['buzzer'],\n",
       " ['buzzer'],\n",
       " ['buzzer'],\n",
       " ['buzzer'],\n",
       " ['buzzer'],\n",
       " ['buzzer'],\n",
       " ['buzzer'],\n",
       " ['buzzer'],\n",
       " ['buzzer'],\n",
       " ['buzzer'],\n",
       " ['buzzer'],\n",
       " ['buzzer'],\n",
       " ['buzzer'],\n",
       " ['buzzer'],\n",
       " ['buzzer'],\n",
       " ['buzzer'],\n",
       " ['buzzer'],\n",
       " ['buzzer'],\n",
       " ['buzzer'],\n",
       " ['buzzer'],\n",
       " ['buzzer'],\n",
       " ['buzzer'],\n",
       " ['buzzer'],\n",
       " ['buzzer'],\n",
       " ['buzzer'],\n",
       " ['buzzer'],\n",
       " ['buzzer'],\n",
       " ['buzzer'],\n",
       " ['buzzer'],\n",
       " ['buzzer'],\n",
       " ['buzzer'],\n",
       " ['buzzer'],\n",
       " ['buzzer'],\n",
       " ['buzzer'],\n",
       " ['buzzer'],\n",
       " ['buzzer'],\n",
       " ['buzzer'],\n",
       " ['buzzer'],\n",
       " ['buzzer'],\n",
       " ['buzzer'],\n",
       " ['buzzer'],\n",
       " ['buzzer'],\n",
       " ['buzzer'],\n",
       " ['buzzer'],\n",
       " ['buzzer'],\n",
       " ['buzzer'],\n",
       " ['buzzer'],\n",
       " ['buzzer'],\n",
       " ['buzzer'],\n",
       " ['buzzer'],\n",
       " ['buzzer'],\n",
       " ['buzzer'],\n",
       " ['buzzer'],\n",
       " ['buzzer'],\n",
       " ['buzzer'],\n",
       " ['buzzer'],\n",
       " ['buzzer'],\n",
       " ['buzzer'],\n",
       " ['buzzer'],\n",
       " ['buzzer'],\n",
       " ['buzzer'],\n",
       " ['buzzer'],\n",
       " ['buzzer'],\n",
       " ['buzzer'],\n",
       " ['buzzer'],\n",
       " ['buzzer'],\n",
       " ['buzzer'],\n",
       " ['buzzer'],\n",
       " ['buzzer'],\n",
       " ['buzzer'],\n",
       " ['buzzer'],\n",
       " ['buzzer'],\n",
       " ['buzzer'],\n",
       " ['buzzer'],\n",
       " ['buzzer'],\n",
       " ['buzzer'],\n",
       " ['buzzer'],\n",
       " ['buzzer'],\n",
       " ['buzzer'],\n",
       " ['buzzer'],\n",
       " ['buzzer'],\n",
       " ['none'],\n",
       " ['none'],\n",
       " ['none'],\n",
       " ['none'],\n",
       " ['none'],\n",
       " ['none'],\n",
       " ['none'],\n",
       " ['none'],\n",
       " ['none'],\n",
       " ['none'],\n",
       " ['none'],\n",
       " ['none'],\n",
       " ['none'],\n",
       " ['none'],\n",
       " ['none'],\n",
       " ['none'],\n",
       " ['none'],\n",
       " ['none'],\n",
       " ['none'],\n",
       " ['none'],\n",
       " ['none'],\n",
       " ['none'],\n",
       " ['none'],\n",
       " ['none'],\n",
       " ['none'],\n",
       " ['none'],\n",
       " ['none'],\n",
       " ['none'],\n",
       " ['none'],\n",
       " ['none'],\n",
       " ['none'],\n",
       " ['none'],\n",
       " ['none'],\n",
       " ['none'],\n",
       " ['none'],\n",
       " ['none'],\n",
       " ['none'],\n",
       " ['none'],\n",
       " ['none'],\n",
       " ['none'],\n",
       " ['none'],\n",
       " ['none'],\n",
       " ['none'],\n",
       " ['none'],\n",
       " ['none'],\n",
       " ['none'],\n",
       " ['none'],\n",
       " ['none'],\n",
       " ['none'],\n",
       " ['none'],\n",
       " ['none'],\n",
       " ['none'],\n",
       " ['none'],\n",
       " ['none'],\n",
       " ['none'],\n",
       " ['none'],\n",
       " ['none'],\n",
       " ['none'],\n",
       " ['none'],\n",
       " ['none'],\n",
       " ['none'],\n",
       " ['none'],\n",
       " ['none'],\n",
       " ['none'],\n",
       " ['none'],\n",
       " ['none'],\n",
       " ['none'],\n",
       " ['none'],\n",
       " ['none'],\n",
       " ['none'],\n",
       " ['none'],\n",
       " ['none'],\n",
       " ['none'],\n",
       " ['none'],\n",
       " ['none'],\n",
       " ['none'],\n",
       " ['none'],\n",
       " ['none'],\n",
       " ['none'],\n",
       " ['none'],\n",
       " ['none'],\n",
       " ['none'],\n",
       " ['none'],\n",
       " ['none'],\n",
       " ['none'],\n",
       " ['none'],\n",
       " ['none'],\n",
       " ['none'],\n",
       " ['none'],\n",
       " ['none'],\n",
       " ['none'],\n",
       " ['none'],\n",
       " ['none'],\n",
       " ['none'],\n",
       " ['none'],\n",
       " ['none'],\n",
       " ['none'],\n",
       " ['none'],\n",
       " ['none'],\n",
       " ['none'],\n",
       " ['none'],\n",
       " ['none'],\n",
       " ['none'],\n",
       " ['none'],\n",
       " ['none'],\n",
       " ['none'],\n",
       " ['none'],\n",
       " ['none'],\n",
       " ['none'],\n",
       " ['none'],\n",
       " ['none'],\n",
       " ['none'],\n",
       " ['none'],\n",
       " ['none'],\n",
       " ['none'],\n",
       " ['none'],\n",
       " ['none'],\n",
       " ['none'],\n",
       " ['none'],\n",
       " ['none'],\n",
       " ['none'],\n",
       " ['none'],\n",
       " ['none'],\n",
       " ['none'],\n",
       " ['none'],\n",
       " ['none'],\n",
       " ['none'],\n",
       " ['none'],\n",
       " ['none'],\n",
       " ['none'],\n",
       " ['none'],\n",
       " ['none'],\n",
       " ['none'],\n",
       " ['none'],\n",
       " ['none'],\n",
       " ['none'],\n",
       " ['none'],\n",
       " ['none']]"
      ]
     },
     "execution_count": 5,
     "metadata": {},
     "output_type": "execute_result"
    }
   ],
   "source": [
    "tag = np.array(dt[\"tag\"])\n",
    "tag = [[i] for i in tag]\n",
    "tag"
   ]
  },
  {
   "cell_type": "code",
   "execution_count": 6,
   "id": "21cedbae",
   "metadata": {},
   "outputs": [
    {
     "data": {
      "text/html": [
       "<div>\n",
       "<style scoped>\n",
       "    .dataframe tbody tr th:only-of-type {\n",
       "        vertical-align: middle;\n",
       "    }\n",
       "\n",
       "    .dataframe tbody tr th {\n",
       "        vertical-align: top;\n",
       "    }\n",
       "\n",
       "    .dataframe thead th {\n",
       "        text-align: right;\n",
       "    }\n",
       "</style>\n",
       "<table border=\"1\" class=\"dataframe\">\n",
       "  <thead>\n",
       "    <tr style=\"text-align: right;\">\n",
       "      <th></th>\n",
       "      <th>RSSI</th>\n",
       "      <th>distance</th>\n",
       "    </tr>\n",
       "  </thead>\n",
       "  <tbody>\n",
       "    <tr>\n",
       "      <th>RSSI</th>\n",
       "      <td>49.268578</td>\n",
       "      <td>-1.829627</td>\n",
       "    </tr>\n",
       "    <tr>\n",
       "      <th>distance</th>\n",
       "      <td>-1.829627</td>\n",
       "      <td>0.170060</td>\n",
       "    </tr>\n",
       "  </tbody>\n",
       "</table>\n",
       "</div>"
      ],
      "text/plain": [
       "               RSSI  distance\n",
       "RSSI      49.268578 -1.829627\n",
       "distance  -1.829627  0.170060"
      ]
     },
     "execution_count": 6,
     "metadata": {},
     "output_type": "execute_result"
    }
   ],
   "source": [
    "dt.cov()"
   ]
  },
  {
   "cell_type": "code",
   "execution_count": 7,
   "id": "66591456",
   "metadata": {},
   "outputs": [
    {
     "name": "stdout",
     "output_type": "stream",
     "text": [
      "GDP协方差： -1.829627309236948\n"
     ]
    }
   ],
   "source": [
    "print(u\"GDP协方差：\",dt['distance'].cov(dt['RSSI']))"
   ]
  },
  {
   "cell_type": "code",
   "execution_count": 7,
   "id": "495df837",
   "metadata": {},
   "outputs": [
    {
     "data": {
      "text/plain": [
       "0     -73.0\n",
       "1     -74.0\n",
       "2     -75.0\n",
       "3     -74.0\n",
       "4     -71.0\n",
       "       ... \n",
       "772     NaN\n",
       "773     NaN\n",
       "774     NaN\n",
       "775     NaN\n",
       "776     NaN\n",
       "Name: RSSI, Length: 766, dtype: float64"
      ]
     },
     "execution_count": 7,
     "metadata": {},
     "output_type": "execute_result"
    }
   ],
   "source": [
    "array = dt.RSSI\n",
    "array"
   ]
  },
  {
   "cell_type": "code",
   "execution_count": 8,
   "id": "87b5ce8c",
   "metadata": {},
   "outputs": [
    {
     "data": {
      "text/plain": [
       "Series([], Name: RSSI, dtype: float64)"
      ]
     },
     "execution_count": 8,
     "metadata": {},
     "output_type": "execute_result"
    }
   ],
   "source": [
    "a1 = array[0:29]\n",
    "s=np.std(a1)\n",
    "m=np.mean(a1)\n",
    "a1[(a1<=m-2*s) | (a1>=m+2*s)]"
   ]
  },
  {
   "cell_type": "code",
   "execution_count": 9,
   "id": "b62ce934",
   "metadata": {},
   "outputs": [
    {
     "data": {
      "text/plain": [
       "30   -78.0\n",
       "31   -79.0\n",
       "32   -84.0\n",
       "33   -82.0\n",
       "34   -83.0\n",
       "35   -79.0\n",
       "36   -76.0\n",
       "37   -80.0\n",
       "38   -87.0\n",
       "39   -81.0\n",
       "40   -83.0\n",
       "41   -85.0\n",
       "42   -84.0\n",
       "43   -87.0\n",
       "44   -81.0\n",
       "45   -80.0\n",
       "46   -76.0\n",
       "47   -81.0\n",
       "48   -88.0\n",
       "49   -79.0\n",
       "50   -79.0\n",
       "51   -82.0\n",
       "52   -90.0\n",
       "53   -86.0\n",
       "54   -90.0\n",
       "56   -87.0\n",
       "57   -84.0\n",
       "58   -79.0\n",
       "Name: RSSI, dtype: float64"
      ]
     },
     "execution_count": 9,
     "metadata": {},
     "output_type": "execute_result"
    }
   ],
   "source": [
    "a2 = array[30:58]\n",
    "a2\n",
    "s=np.std(a2)\n",
    "m=np.mean(a2)\n",
    "a2[(a2<=m-2*s) | (a2>=m+2*s)]\n",
    "a2"
   ]
  },
  {
   "cell_type": "code",
   "execution_count": 8,
   "id": "d8e6df68",
   "metadata": {},
   "outputs": [
    {
     "ename": "NameError",
     "evalue": "name 'array' is not defined",
     "output_type": "error",
     "traceback": [
      "\u001b[1;31m---------------------------------------------------------------------------\u001b[0m",
      "\u001b[1;31mNameError\u001b[0m                                 Traceback (most recent call last)",
      "\u001b[1;32m~\\AppData\\Local\\Temp/ipykernel_59860/283064995.py\u001b[0m in \u001b[0;36m<module>\u001b[1;34m\u001b[0m\n\u001b[1;32m----> 1\u001b[1;33m \u001b[0ma3\u001b[0m \u001b[1;33m=\u001b[0m \u001b[0marray\u001b[0m\u001b[1;33m[\u001b[0m\u001b[1;36m59\u001b[0m\u001b[1;33m:\u001b[0m\u001b[1;36m87\u001b[0m\u001b[1;33m]\u001b[0m\u001b[1;33m\u001b[0m\u001b[1;33m\u001b[0m\u001b[0m\n\u001b[0m\u001b[0;32m      2\u001b[0m \u001b[0ma3\u001b[0m\u001b[1;33m\u001b[0m\u001b[1;33m\u001b[0m\u001b[0m\n\u001b[0;32m      3\u001b[0m \u001b[0ms\u001b[0m\u001b[1;33m=\u001b[0m\u001b[0mnp\u001b[0m\u001b[1;33m.\u001b[0m\u001b[0mstd\u001b[0m\u001b[1;33m(\u001b[0m\u001b[0ma3\u001b[0m\u001b[1;33m)\u001b[0m\u001b[1;33m\u001b[0m\u001b[1;33m\u001b[0m\u001b[0m\n\u001b[0;32m      4\u001b[0m \u001b[0mm\u001b[0m\u001b[1;33m=\u001b[0m\u001b[0mnp\u001b[0m\u001b[1;33m.\u001b[0m\u001b[0mmean\u001b[0m\u001b[1;33m(\u001b[0m\u001b[0ma3\u001b[0m\u001b[1;33m)\u001b[0m\u001b[1;33m\u001b[0m\u001b[1;33m\u001b[0m\u001b[0m\n\u001b[0;32m      5\u001b[0m \u001b[0ma3\u001b[0m\u001b[1;33m[\u001b[0m\u001b[1;33m(\u001b[0m\u001b[0ma3\u001b[0m\u001b[1;33m<=\u001b[0m\u001b[0mm\u001b[0m\u001b[1;33m-\u001b[0m\u001b[1;36m2\u001b[0m\u001b[1;33m*\u001b[0m\u001b[0ms\u001b[0m\u001b[1;33m)\u001b[0m \u001b[1;33m|\u001b[0m \u001b[1;33m(\u001b[0m\u001b[0ma3\u001b[0m\u001b[1;33m>=\u001b[0m\u001b[0mm\u001b[0m\u001b[1;33m+\u001b[0m\u001b[1;36m2\u001b[0m\u001b[1;33m*\u001b[0m\u001b[0ms\u001b[0m\u001b[1;33m)\u001b[0m\u001b[1;33m]\u001b[0m\u001b[1;33m\u001b[0m\u001b[1;33m\u001b[0m\u001b[0m\n",
      "\u001b[1;31mNameError\u001b[0m: name 'array' is not defined"
     ]
    }
   ],
   "source": [
    "a3 = array[59:87]\n",
    "a3\n",
    "s=np.std(a3)\n",
    "m=np.mean(a3)\n",
    "a3[(a3<=m-2*s) | (a3>=m+2*s)]"
   ]
  },
  {
   "cell_type": "code",
   "execution_count": 9,
   "id": "5844d33f",
   "metadata": {},
   "outputs": [],
   "source": [
    "#len(np.where(np.logical_and(a>=m-2*s, a<=m+2*s))[0])"
   ]
  },
  {
   "cell_type": "code",
   "execution_count": 10,
   "id": "9f1322af",
   "metadata": {},
   "outputs": [
    {
     "ename": "NameError",
     "evalue": "name 'array' is not defined",
     "output_type": "error",
     "traceback": [
      "\u001b[1;31m---------------------------------------------------------------------------\u001b[0m",
      "\u001b[1;31mNameError\u001b[0m                                 Traceback (most recent call last)",
      "\u001b[1;32m~\\AppData\\Local\\Temp/ipykernel_59860/490365590.py\u001b[0m in \u001b[0;36m<module>\u001b[1;34m\u001b[0m\n\u001b[1;32m----> 1\u001b[1;33m \u001b[0ma4\u001b[0m \u001b[1;33m=\u001b[0m \u001b[0marray\u001b[0m\u001b[1;33m[\u001b[0m\u001b[1;36m88\u001b[0m\u001b[1;33m:\u001b[0m\u001b[1;36m116\u001b[0m\u001b[1;33m]\u001b[0m\u001b[1;33m\u001b[0m\u001b[1;33m\u001b[0m\u001b[0m\n\u001b[0m\u001b[0;32m      2\u001b[0m \u001b[0ma4\u001b[0m\u001b[1;33m\u001b[0m\u001b[1;33m\u001b[0m\u001b[0m\n\u001b[0;32m      3\u001b[0m \u001b[0mnp\u001b[0m\u001b[1;33m.\u001b[0m\u001b[0mstd\u001b[0m\u001b[1;33m(\u001b[0m\u001b[0ma4\u001b[0m\u001b[1;33m)\u001b[0m\u001b[1;33m\u001b[0m\u001b[1;33m\u001b[0m\u001b[0m\n",
      "\u001b[1;31mNameError\u001b[0m: name 'array' is not defined"
     ]
    }
   ],
   "source": [
    "a4 = array[88:116]\n",
    "a4\n",
    "np.std(a4)"
   ]
  },
  {
   "cell_type": "code",
   "execution_count": 11,
   "id": "5fdffb02",
   "metadata": {},
   "outputs": [
    {
     "ename": "NameError",
     "evalue": "name 'a4' is not defined",
     "output_type": "error",
     "traceback": [
      "\u001b[1;31m---------------------------------------------------------------------------\u001b[0m",
      "\u001b[1;31mNameError\u001b[0m                                 Traceback (most recent call last)",
      "\u001b[1;32m~\\AppData\\Local\\Temp/ipykernel_59860/3241513451.py\u001b[0m in \u001b[0;36m<module>\u001b[1;34m\u001b[0m\n\u001b[1;32m----> 1\u001b[1;33m \u001b[0ms\u001b[0m\u001b[1;33m=\u001b[0m\u001b[0mnp\u001b[0m\u001b[1;33m.\u001b[0m\u001b[0mstd\u001b[0m\u001b[1;33m(\u001b[0m\u001b[0ma4\u001b[0m\u001b[1;33m)\u001b[0m\u001b[1;33m\u001b[0m\u001b[1;33m\u001b[0m\u001b[0m\n\u001b[0m\u001b[0;32m      2\u001b[0m \u001b[0mm\u001b[0m\u001b[1;33m=\u001b[0m\u001b[0mnp\u001b[0m\u001b[1;33m.\u001b[0m\u001b[0mmean\u001b[0m\u001b[1;33m(\u001b[0m\u001b[0ma4\u001b[0m\u001b[1;33m)\u001b[0m\u001b[1;33m\u001b[0m\u001b[1;33m\u001b[0m\u001b[0m\n\u001b[0;32m      3\u001b[0m \u001b[0ma\u001b[0m\u001b[1;33m=\u001b[0m\u001b[0ma4\u001b[0m\u001b[1;33m\u001b[0m\u001b[1;33m\u001b[0m\u001b[0m\n\u001b[0;32m      4\u001b[0m \u001b[0mlen\u001b[0m\u001b[1;33m(\u001b[0m\u001b[0ma4\u001b[0m\u001b[1;33m)\u001b[0m\u001b[1;33m\u001b[0m\u001b[1;33m\u001b[0m\u001b[0m\n\u001b[0;32m      5\u001b[0m \u001b[0ma4\u001b[0m\u001b[1;33m[\u001b[0m\u001b[1;33m(\u001b[0m\u001b[0ma4\u001b[0m\u001b[1;33m<=\u001b[0m\u001b[0mm\u001b[0m\u001b[1;33m-\u001b[0m\u001b[1;36m2\u001b[0m\u001b[1;33m*\u001b[0m\u001b[0ms\u001b[0m\u001b[1;33m)\u001b[0m \u001b[1;33m|\u001b[0m \u001b[1;33m(\u001b[0m\u001b[0ma4\u001b[0m\u001b[1;33m>=\u001b[0m\u001b[0mm\u001b[0m\u001b[1;33m+\u001b[0m\u001b[1;36m2\u001b[0m\u001b[1;33m*\u001b[0m\u001b[0ms\u001b[0m\u001b[1;33m)\u001b[0m\u001b[1;33m]\u001b[0m\u001b[1;33m\u001b[0m\u001b[1;33m\u001b[0m\u001b[0m\n",
      "\u001b[1;31mNameError\u001b[0m: name 'a4' is not defined"
     ]
    }
   ],
   "source": [
    "s=np.std(a4)\n",
    "m=np.mean(a4)\n",
    "a=a4\n",
    "len(a4)\n",
    "a4[(a4<=m-2*s) | (a4>=m+2*s)]"
   ]
  },
  {
   "cell_type": "code",
   "execution_count": 12,
   "id": "2f62f8c7",
   "metadata": {},
   "outputs": [],
   "source": [
    "#len(np.where(np.logical_and(a>=m-2*s, a<=m+2*s))[0])"
   ]
  },
  {
   "cell_type": "code",
   "execution_count": 13,
   "id": "e10b42c2",
   "metadata": {},
   "outputs": [],
   "source": [
    "#np.logical_and(a>=m-2*s, a<=m+2*s)"
   ]
  },
  {
   "cell_type": "code",
   "execution_count": 14,
   "id": "beb970ac",
   "metadata": {},
   "outputs": [
    {
     "ename": "NameError",
     "evalue": "name 'array' is not defined",
     "output_type": "error",
     "traceback": [
      "\u001b[1;31m---------------------------------------------------------------------------\u001b[0m",
      "\u001b[1;31mNameError\u001b[0m                                 Traceback (most recent call last)",
      "\u001b[1;32m~\\AppData\\Local\\Temp/ipykernel_59860/1859589984.py\u001b[0m in \u001b[0;36m<module>\u001b[1;34m\u001b[0m\n\u001b[1;32m----> 1\u001b[1;33m \u001b[0ma5\u001b[0m \u001b[1;33m=\u001b[0m \u001b[0marray\u001b[0m\u001b[1;33m[\u001b[0m\u001b[1;36m117\u001b[0m\u001b[1;33m:\u001b[0m\u001b[1;36m145\u001b[0m\u001b[1;33m]\u001b[0m\u001b[1;33m\u001b[0m\u001b[1;33m\u001b[0m\u001b[0m\n\u001b[0m\u001b[0;32m      2\u001b[0m \u001b[0ma5\u001b[0m\u001b[1;33m\u001b[0m\u001b[1;33m\u001b[0m\u001b[0m\n\u001b[0;32m      3\u001b[0m \u001b[0ms\u001b[0m\u001b[1;33m=\u001b[0m\u001b[0mnp\u001b[0m\u001b[1;33m.\u001b[0m\u001b[0mstd\u001b[0m\u001b[1;33m(\u001b[0m\u001b[0ma5\u001b[0m\u001b[1;33m)\u001b[0m\u001b[1;33m\u001b[0m\u001b[1;33m\u001b[0m\u001b[0m\n\u001b[0;32m      4\u001b[0m \u001b[0mm\u001b[0m\u001b[1;33m=\u001b[0m\u001b[0mnp\u001b[0m\u001b[1;33m.\u001b[0m\u001b[0mmean\u001b[0m\u001b[1;33m(\u001b[0m\u001b[0ma5\u001b[0m\u001b[1;33m)\u001b[0m\u001b[1;33m\u001b[0m\u001b[1;33m\u001b[0m\u001b[0m\n\u001b[0;32m      5\u001b[0m \u001b[1;33m\u001b[0m\u001b[0m\n",
      "\u001b[1;31mNameError\u001b[0m: name 'array' is not defined"
     ]
    }
   ],
   "source": [
    "a5 = array[117:145]\n",
    "a5\n",
    "s=np.std(a5)\n",
    "m=np.mean(a5)\n",
    "\n",
    "a5[(a5<=m-2*s) | (a5>=m+2*s)]"
   ]
  },
  {
   "cell_type": "code",
   "execution_count": 15,
   "id": "2f19f7ab",
   "metadata": {},
   "outputs": [
    {
     "ename": "NameError",
     "evalue": "name 'array' is not defined",
     "output_type": "error",
     "traceback": [
      "\u001b[1;31m---------------------------------------------------------------------------\u001b[0m",
      "\u001b[1;31mNameError\u001b[0m                                 Traceback (most recent call last)",
      "\u001b[1;32m~\\AppData\\Local\\Temp/ipykernel_59860/2098318421.py\u001b[0m in \u001b[0;36m<module>\u001b[1;34m\u001b[0m\n\u001b[1;32m----> 1\u001b[1;33m \u001b[0ma6\u001b[0m \u001b[1;33m=\u001b[0m \u001b[0marray\u001b[0m\u001b[1;33m[\u001b[0m\u001b[1;36m146\u001b[0m\u001b[1;33m:\u001b[0m\u001b[1;36m174\u001b[0m\u001b[1;33m]\u001b[0m\u001b[1;33m\u001b[0m\u001b[1;33m\u001b[0m\u001b[0m\n\u001b[0m\u001b[0;32m      2\u001b[0m \u001b[0ms\u001b[0m\u001b[1;33m=\u001b[0m\u001b[0mnp\u001b[0m\u001b[1;33m.\u001b[0m\u001b[0mstd\u001b[0m\u001b[1;33m(\u001b[0m\u001b[0ma6\u001b[0m\u001b[1;33m)\u001b[0m\u001b[1;33m\u001b[0m\u001b[1;33m\u001b[0m\u001b[0m\n\u001b[0;32m      3\u001b[0m \u001b[0mm\u001b[0m\u001b[1;33m=\u001b[0m\u001b[0mnp\u001b[0m\u001b[1;33m.\u001b[0m\u001b[0mmean\u001b[0m\u001b[1;33m(\u001b[0m\u001b[0ma6\u001b[0m\u001b[1;33m)\u001b[0m\u001b[1;33m\u001b[0m\u001b[1;33m\u001b[0m\u001b[0m\n\u001b[0;32m      4\u001b[0m \u001b[1;33m\u001b[0m\u001b[0m\n\u001b[0;32m      5\u001b[0m \u001b[0ma6\u001b[0m\u001b[1;33m[\u001b[0m\u001b[1;33m(\u001b[0m\u001b[0ma6\u001b[0m\u001b[1;33m<=\u001b[0m\u001b[0mm\u001b[0m\u001b[1;33m-\u001b[0m\u001b[1;36m2\u001b[0m\u001b[1;33m*\u001b[0m\u001b[0ms\u001b[0m\u001b[1;33m)\u001b[0m \u001b[1;33m|\u001b[0m \u001b[1;33m(\u001b[0m\u001b[0ma6\u001b[0m\u001b[1;33m>=\u001b[0m\u001b[0mm\u001b[0m\u001b[1;33m+\u001b[0m\u001b[1;36m2\u001b[0m\u001b[1;33m*\u001b[0m\u001b[0ms\u001b[0m\u001b[1;33m)\u001b[0m\u001b[1;33m]\u001b[0m\u001b[1;33m\u001b[0m\u001b[1;33m\u001b[0m\u001b[0m\n",
      "\u001b[1;31mNameError\u001b[0m: name 'array' is not defined"
     ]
    }
   ],
   "source": [
    "a6 = array[146:174]\n",
    "s=np.std(a6)\n",
    "m=np.mean(a6)\n",
    "\n",
    "a6[(a6<=m-2*s) | (a6>=m+2*s)]"
   ]
  },
  {
   "cell_type": "code",
   "execution_count": 16,
   "id": "76e28f29",
   "metadata": {},
   "outputs": [
    {
     "ename": "NameError",
     "evalue": "name 'array' is not defined",
     "output_type": "error",
     "traceback": [
      "\u001b[1;31m---------------------------------------------------------------------------\u001b[0m",
      "\u001b[1;31mNameError\u001b[0m                                 Traceback (most recent call last)",
      "\u001b[1;32m~\\AppData\\Local\\Temp/ipykernel_59860/2245661160.py\u001b[0m in \u001b[0;36m<module>\u001b[1;34m\u001b[0m\n\u001b[1;32m----> 1\u001b[1;33m \u001b[0ma7\u001b[0m \u001b[1;33m=\u001b[0m \u001b[0marray\u001b[0m\u001b[1;33m[\u001b[0m\u001b[1;36m175\u001b[0m\u001b[1;33m:\u001b[0m\u001b[1;36m203\u001b[0m\u001b[1;33m]\u001b[0m\u001b[1;33m\u001b[0m\u001b[1;33m\u001b[0m\u001b[0m\n\u001b[0m\u001b[0;32m      2\u001b[0m \u001b[0ms\u001b[0m\u001b[1;33m=\u001b[0m\u001b[0mnp\u001b[0m\u001b[1;33m.\u001b[0m\u001b[0mstd\u001b[0m\u001b[1;33m(\u001b[0m\u001b[0ma7\u001b[0m\u001b[1;33m)\u001b[0m\u001b[1;33m\u001b[0m\u001b[1;33m\u001b[0m\u001b[0m\n\u001b[0;32m      3\u001b[0m \u001b[0mm\u001b[0m\u001b[1;33m=\u001b[0m\u001b[0mnp\u001b[0m\u001b[1;33m.\u001b[0m\u001b[0mmean\u001b[0m\u001b[1;33m(\u001b[0m\u001b[0ma7\u001b[0m\u001b[1;33m)\u001b[0m\u001b[1;33m\u001b[0m\u001b[1;33m\u001b[0m\u001b[0m\n\u001b[0;32m      4\u001b[0m \u001b[1;33m\u001b[0m\u001b[0m\n\u001b[0;32m      5\u001b[0m \u001b[0ma7\u001b[0m\u001b[1;33m[\u001b[0m\u001b[1;33m(\u001b[0m\u001b[0ma7\u001b[0m\u001b[1;33m<=\u001b[0m\u001b[0mm\u001b[0m\u001b[1;33m-\u001b[0m\u001b[1;36m2\u001b[0m\u001b[1;33m*\u001b[0m\u001b[0ms\u001b[0m\u001b[1;33m)\u001b[0m \u001b[1;33m|\u001b[0m \u001b[1;33m(\u001b[0m\u001b[0ma7\u001b[0m\u001b[1;33m>=\u001b[0m\u001b[0mm\u001b[0m\u001b[1;33m+\u001b[0m\u001b[1;36m2\u001b[0m\u001b[1;33m*\u001b[0m\u001b[0ms\u001b[0m\u001b[1;33m)\u001b[0m\u001b[1;33m]\u001b[0m\u001b[1;33m\u001b[0m\u001b[1;33m\u001b[0m\u001b[0m\n",
      "\u001b[1;31mNameError\u001b[0m: name 'array' is not defined"
     ]
    }
   ],
   "source": [
    "a7 = array[175:203]\n",
    "s=np.std(a7)\n",
    "m=np.mean(a7)\n",
    "\n",
    "a7[(a7<=m-2*s) | (a7>=m+2*s)]"
   ]
  },
  {
   "cell_type": "code",
   "execution_count": 17,
   "id": "59bfc660",
   "metadata": {},
   "outputs": [
    {
     "ename": "NameError",
     "evalue": "name 'array' is not defined",
     "output_type": "error",
     "traceback": [
      "\u001b[1;31m---------------------------------------------------------------------------\u001b[0m",
      "\u001b[1;31mNameError\u001b[0m                                 Traceback (most recent call last)",
      "\u001b[1;32m~\\AppData\\Local\\Temp/ipykernel_59860/3490092907.py\u001b[0m in \u001b[0;36m<module>\u001b[1;34m\u001b[0m\n\u001b[1;32m----> 1\u001b[1;33m \u001b[0ma8\u001b[0m \u001b[1;33m=\u001b[0m \u001b[0marray\u001b[0m\u001b[1;33m[\u001b[0m\u001b[1;36m204\u001b[0m\u001b[1;33m:\u001b[0m\u001b[1;36m232\u001b[0m\u001b[1;33m]\u001b[0m\u001b[1;33m\u001b[0m\u001b[1;33m\u001b[0m\u001b[0m\n\u001b[0m\u001b[0;32m      2\u001b[0m \u001b[0ms\u001b[0m\u001b[1;33m=\u001b[0m\u001b[0mnp\u001b[0m\u001b[1;33m.\u001b[0m\u001b[0mstd\u001b[0m\u001b[1;33m(\u001b[0m\u001b[0ma8\u001b[0m\u001b[1;33m)\u001b[0m\u001b[1;33m\u001b[0m\u001b[1;33m\u001b[0m\u001b[0m\n\u001b[0;32m      3\u001b[0m \u001b[0mm\u001b[0m\u001b[1;33m=\u001b[0m\u001b[0mnp\u001b[0m\u001b[1;33m.\u001b[0m\u001b[0mmean\u001b[0m\u001b[1;33m(\u001b[0m\u001b[0ma8\u001b[0m\u001b[1;33m)\u001b[0m\u001b[1;33m\u001b[0m\u001b[1;33m\u001b[0m\u001b[0m\n\u001b[0;32m      4\u001b[0m \u001b[1;33m\u001b[0m\u001b[0m\n\u001b[0;32m      5\u001b[0m \u001b[0ma8\u001b[0m\u001b[1;33m[\u001b[0m\u001b[1;33m(\u001b[0m\u001b[0ma8\u001b[0m\u001b[1;33m<=\u001b[0m\u001b[0mm\u001b[0m\u001b[1;33m-\u001b[0m\u001b[1;36m2\u001b[0m\u001b[1;33m*\u001b[0m\u001b[0ms\u001b[0m\u001b[1;33m)\u001b[0m \u001b[1;33m|\u001b[0m \u001b[1;33m(\u001b[0m\u001b[0ma8\u001b[0m\u001b[1;33m>=\u001b[0m\u001b[0mm\u001b[0m\u001b[1;33m+\u001b[0m\u001b[1;36m2\u001b[0m\u001b[1;33m*\u001b[0m\u001b[0ms\u001b[0m\u001b[1;33m)\u001b[0m\u001b[1;33m]\u001b[0m\u001b[1;33m\u001b[0m\u001b[1;33m\u001b[0m\u001b[0m\n",
      "\u001b[1;31mNameError\u001b[0m: name 'array' is not defined"
     ]
    }
   ],
   "source": [
    "a8 = array[204:232]\n",
    "s=np.std(a8)\n",
    "m=np.mean(a8)\n",
    "\n",
    "a8[(a8<=m-2*s) | (a8>=m+2*s)]"
   ]
  },
  {
   "cell_type": "code",
   "execution_count": 18,
   "id": "16863cad",
   "metadata": {},
   "outputs": [
    {
     "ename": "NameError",
     "evalue": "name 'array' is not defined",
     "output_type": "error",
     "traceback": [
      "\u001b[1;31m---------------------------------------------------------------------------\u001b[0m",
      "\u001b[1;31mNameError\u001b[0m                                 Traceback (most recent call last)",
      "\u001b[1;32m~\\AppData\\Local\\Temp/ipykernel_59860/2748470422.py\u001b[0m in \u001b[0;36m<module>\u001b[1;34m\u001b[0m\n\u001b[1;32m----> 1\u001b[1;33m \u001b[0ma9\u001b[0m \u001b[1;33m=\u001b[0m \u001b[0marray\u001b[0m\u001b[1;33m[\u001b[0m\u001b[1;36m233\u001b[0m\u001b[1;33m:\u001b[0m\u001b[1;36m261\u001b[0m\u001b[1;33m]\u001b[0m\u001b[1;33m\u001b[0m\u001b[1;33m\u001b[0m\u001b[0m\n\u001b[0m\u001b[0;32m      2\u001b[0m \u001b[0ms\u001b[0m\u001b[1;33m=\u001b[0m\u001b[0mnp\u001b[0m\u001b[1;33m.\u001b[0m\u001b[0mstd\u001b[0m\u001b[1;33m(\u001b[0m\u001b[0ma9\u001b[0m\u001b[1;33m)\u001b[0m\u001b[1;33m\u001b[0m\u001b[1;33m\u001b[0m\u001b[0m\n\u001b[0;32m      3\u001b[0m \u001b[0mm\u001b[0m\u001b[1;33m=\u001b[0m\u001b[0mnp\u001b[0m\u001b[1;33m.\u001b[0m\u001b[0mmean\u001b[0m\u001b[1;33m(\u001b[0m\u001b[0ma9\u001b[0m\u001b[1;33m)\u001b[0m\u001b[1;33m\u001b[0m\u001b[1;33m\u001b[0m\u001b[0m\n\u001b[0;32m      4\u001b[0m \u001b[1;33m\u001b[0m\u001b[0m\n\u001b[0;32m      5\u001b[0m \u001b[0ma9\u001b[0m\u001b[1;33m[\u001b[0m\u001b[1;33m(\u001b[0m\u001b[0ma9\u001b[0m\u001b[1;33m<=\u001b[0m\u001b[0mm\u001b[0m\u001b[1;33m-\u001b[0m\u001b[1;36m2\u001b[0m\u001b[1;33m*\u001b[0m\u001b[0ms\u001b[0m\u001b[1;33m)\u001b[0m \u001b[1;33m|\u001b[0m \u001b[1;33m(\u001b[0m\u001b[0ma9\u001b[0m\u001b[1;33m>=\u001b[0m\u001b[0mm\u001b[0m\u001b[1;33m+\u001b[0m\u001b[1;36m2\u001b[0m\u001b[1;33m*\u001b[0m\u001b[0ms\u001b[0m\u001b[1;33m)\u001b[0m\u001b[1;33m]\u001b[0m\u001b[1;33m\u001b[0m\u001b[1;33m\u001b[0m\u001b[0m\n",
      "\u001b[1;31mNameError\u001b[0m: name 'array' is not defined"
     ]
    }
   ],
   "source": [
    "a9 = array[233:261]\n",
    "s=np.std(a9)\n",
    "m=np.mean(a9)\n",
    "\n",
    "a9[(a9<=m-2*s) | (a9>=m+2*s)]"
   ]
  },
  {
   "cell_type": "code",
   "execution_count": 21,
   "id": "383a1e53",
   "metadata": {},
   "outputs": [
    {
     "data": {
      "text/plain": [
       "244    -84.0\n",
       "245    -87.0\n",
       "246    -85.0\n",
       "247    -84.0\n",
       "248    -88.0\n",
       "249    -82.0\n",
       "250    -86.0\n",
       "251    -88.0\n",
       "252    -92.0\n",
       "253    -87.0\n",
       "254   -100.0\n",
       "255    -86.0\n",
       "256    -94.0\n",
       "257    -91.0\n",
       "258    -92.0\n",
       "259    -96.0\n",
       "260    -79.0\n",
       "261    -50.0\n",
       "262    -46.0\n",
       "263    -50.0\n",
       "264    -48.0\n",
       "265    -49.0\n",
       "266    -46.0\n",
       "267    -40.0\n",
       "268    -41.0\n",
       "269    -42.0\n",
       "270    -42.0\n",
       "271    -42.0\n",
       "Name: RSSI, dtype: float64"
      ]
     },
     "execution_count": 21,
     "metadata": {},
     "output_type": "execute_result"
    }
   ],
   "source": [
    "array[233:261]"
   ]
  },
  {
   "cell_type": "code",
   "execution_count": null,
   "id": "0faa7476",
   "metadata": {},
   "outputs": [],
   "source": []
  },
  {
   "cell_type": "code",
   "execution_count": null,
   "id": "2b78442e",
   "metadata": {},
   "outputs": [],
   "source": []
  },
  {
   "cell_type": "code",
   "execution_count": null,
   "id": "4cf7d291",
   "metadata": {},
   "outputs": [],
   "source": []
  },
  {
   "cell_type": "code",
   "execution_count": 22,
   "id": "df7cd9c1",
   "metadata": {
    "scrolled": true
   },
   "outputs": [
    {
     "ename": "ValueError",
     "evalue": "dtype='numeric' is not compatible with arrays of bytes/strings.Convert your data to numeric values explicitly instead.",
     "output_type": "error",
     "traceback": [
      "\u001b[1;31m---------------------------------------------------------------------------\u001b[0m",
      "\u001b[1;31mValueError\u001b[0m                                Traceback (most recent call last)",
      "\u001b[1;32m~\\AppData\\Local\\Temp/ipykernel_61916/2089301139.py\u001b[0m in \u001b[0;36m<module>\u001b[1;34m\u001b[0m\n\u001b[1;32m----> 1\u001b[1;33m \u001b[0mreg\u001b[0m \u001b[1;33m=\u001b[0m \u001b[0mLinearRegression\u001b[0m\u001b[1;33m(\u001b[0m\u001b[1;33m)\u001b[0m\u001b[1;33m.\u001b[0m\u001b[0mfit\u001b[0m\u001b[1;33m(\u001b[0m\u001b[0mtag\u001b[0m\u001b[1;33m,\u001b[0m \u001b[0mRSSI\u001b[0m\u001b[1;33m)\u001b[0m\u001b[1;33m\u001b[0m\u001b[1;33m\u001b[0m\u001b[0m\n\u001b[0m",
      "\u001b[1;32m~\\anaconda3\\lib\\site-packages\\sklearn\\linear_model\\_base.py\u001b[0m in \u001b[0;36mfit\u001b[1;34m(self, X, y, sample_weight)\u001b[0m\n\u001b[0;32m    682\u001b[0m         \u001b[0maccept_sparse\u001b[0m \u001b[1;33m=\u001b[0m \u001b[1;32mFalse\u001b[0m \u001b[1;32mif\u001b[0m \u001b[0mself\u001b[0m\u001b[1;33m.\u001b[0m\u001b[0mpositive\u001b[0m \u001b[1;32melse\u001b[0m \u001b[1;33m[\u001b[0m\u001b[1;34m\"csr\"\u001b[0m\u001b[1;33m,\u001b[0m \u001b[1;34m\"csc\"\u001b[0m\u001b[1;33m,\u001b[0m \u001b[1;34m\"coo\"\u001b[0m\u001b[1;33m]\u001b[0m\u001b[1;33m\u001b[0m\u001b[1;33m\u001b[0m\u001b[0m\n\u001b[0;32m    683\u001b[0m \u001b[1;33m\u001b[0m\u001b[0m\n\u001b[1;32m--> 684\u001b[1;33m         X, y = self._validate_data(\n\u001b[0m\u001b[0;32m    685\u001b[0m             \u001b[0mX\u001b[0m\u001b[1;33m,\u001b[0m \u001b[0my\u001b[0m\u001b[1;33m,\u001b[0m \u001b[0maccept_sparse\u001b[0m\u001b[1;33m=\u001b[0m\u001b[0maccept_sparse\u001b[0m\u001b[1;33m,\u001b[0m \u001b[0my_numeric\u001b[0m\u001b[1;33m=\u001b[0m\u001b[1;32mTrue\u001b[0m\u001b[1;33m,\u001b[0m \u001b[0mmulti_output\u001b[0m\u001b[1;33m=\u001b[0m\u001b[1;32mTrue\u001b[0m\u001b[1;33m\u001b[0m\u001b[1;33m\u001b[0m\u001b[0m\n\u001b[0;32m    686\u001b[0m         )\n",
      "\u001b[1;32m~\\anaconda3\\lib\\site-packages\\sklearn\\base.py\u001b[0m in \u001b[0;36m_validate_data\u001b[1;34m(self, X, y, reset, validate_separately, **check_params)\u001b[0m\n\u001b[0;32m    594\u001b[0m                 \u001b[0my\u001b[0m \u001b[1;33m=\u001b[0m \u001b[0mcheck_array\u001b[0m\u001b[1;33m(\u001b[0m\u001b[0my\u001b[0m\u001b[1;33m,\u001b[0m \u001b[0minput_name\u001b[0m\u001b[1;33m=\u001b[0m\u001b[1;34m\"y\"\u001b[0m\u001b[1;33m,\u001b[0m \u001b[1;33m**\u001b[0m\u001b[0mcheck_y_params\u001b[0m\u001b[1;33m)\u001b[0m\u001b[1;33m\u001b[0m\u001b[1;33m\u001b[0m\u001b[0m\n\u001b[0;32m    595\u001b[0m             \u001b[1;32melse\u001b[0m\u001b[1;33m:\u001b[0m\u001b[1;33m\u001b[0m\u001b[1;33m\u001b[0m\u001b[0m\n\u001b[1;32m--> 596\u001b[1;33m                 \u001b[0mX\u001b[0m\u001b[1;33m,\u001b[0m \u001b[0my\u001b[0m \u001b[1;33m=\u001b[0m \u001b[0mcheck_X_y\u001b[0m\u001b[1;33m(\u001b[0m\u001b[0mX\u001b[0m\u001b[1;33m,\u001b[0m \u001b[0my\u001b[0m\u001b[1;33m,\u001b[0m \u001b[1;33m**\u001b[0m\u001b[0mcheck_params\u001b[0m\u001b[1;33m)\u001b[0m\u001b[1;33m\u001b[0m\u001b[1;33m\u001b[0m\u001b[0m\n\u001b[0m\u001b[0;32m    597\u001b[0m             \u001b[0mout\u001b[0m \u001b[1;33m=\u001b[0m \u001b[0mX\u001b[0m\u001b[1;33m,\u001b[0m \u001b[0my\u001b[0m\u001b[1;33m\u001b[0m\u001b[1;33m\u001b[0m\u001b[0m\n\u001b[0;32m    598\u001b[0m \u001b[1;33m\u001b[0m\u001b[0m\n",
      "\u001b[1;32m~\\anaconda3\\lib\\site-packages\\sklearn\\utils\\validation.py\u001b[0m in \u001b[0;36mcheck_X_y\u001b[1;34m(X, y, accept_sparse, accept_large_sparse, dtype, order, copy, force_all_finite, ensure_2d, allow_nd, multi_output, ensure_min_samples, ensure_min_features, y_numeric, estimator)\u001b[0m\n\u001b[0;32m   1072\u001b[0m         )\n\u001b[0;32m   1073\u001b[0m \u001b[1;33m\u001b[0m\u001b[0m\n\u001b[1;32m-> 1074\u001b[1;33m     X = check_array(\n\u001b[0m\u001b[0;32m   1075\u001b[0m         \u001b[0mX\u001b[0m\u001b[1;33m,\u001b[0m\u001b[1;33m\u001b[0m\u001b[1;33m\u001b[0m\u001b[0m\n\u001b[0;32m   1076\u001b[0m         \u001b[0maccept_sparse\u001b[0m\u001b[1;33m=\u001b[0m\u001b[0maccept_sparse\u001b[0m\u001b[1;33m,\u001b[0m\u001b[1;33m\u001b[0m\u001b[1;33m\u001b[0m\u001b[0m\n",
      "\u001b[1;32m~\\anaconda3\\lib\\site-packages\\sklearn\\utils\\validation.py\u001b[0m in \u001b[0;36mcheck_array\u001b[1;34m(array, accept_sparse, accept_large_sparse, dtype, order, copy, force_all_finite, ensure_2d, allow_nd, ensure_min_samples, ensure_min_features, estimator, input_name)\u001b[0m\n\u001b[0;32m    885\u001b[0m \u001b[1;33m\u001b[0m\u001b[0m\n\u001b[0;32m    886\u001b[0m         \u001b[1;32mif\u001b[0m \u001b[0mdtype_numeric\u001b[0m \u001b[1;32mand\u001b[0m \u001b[0marray\u001b[0m\u001b[1;33m.\u001b[0m\u001b[0mdtype\u001b[0m\u001b[1;33m.\u001b[0m\u001b[0mkind\u001b[0m \u001b[1;32min\u001b[0m \u001b[1;34m\"USV\"\u001b[0m\u001b[1;33m:\u001b[0m\u001b[1;33m\u001b[0m\u001b[1;33m\u001b[0m\u001b[0m\n\u001b[1;32m--> 887\u001b[1;33m             raise ValueError(\n\u001b[0m\u001b[0;32m    888\u001b[0m                 \u001b[1;34m\"dtype='numeric' is not compatible with arrays of bytes/strings.\"\u001b[0m\u001b[1;33m\u001b[0m\u001b[1;33m\u001b[0m\u001b[0m\n\u001b[0;32m    889\u001b[0m                 \u001b[1;34m\"Convert your data to numeric values explicitly instead.\"\u001b[0m\u001b[1;33m\u001b[0m\u001b[1;33m\u001b[0m\u001b[0m\n",
      "\u001b[1;31mValueError\u001b[0m: dtype='numeric' is not compatible with arrays of bytes/strings.Convert your data to numeric values explicitly instead."
     ]
    }
   ],
   "source": [
    "reg = LinearRegression().fit(tag, RSSI)"
   ]
  },
  {
   "cell_type": "code",
   "execution_count": null,
   "id": "33ac83f3",
   "metadata": {},
   "outputs": [],
   "source": [
    "print(reg.score(distance, RSSI))"
   ]
  },
  {
   "cell_type": "code",
   "execution_count": null,
   "id": "e558d230",
   "metadata": {},
   "outputs": [],
   "source": [
    "print(reg.coef_)\n",
    "print(reg.intercept_)"
   ]
  },
  {
   "cell_type": "code",
   "execution_count": 19,
   "id": "8974664d",
   "metadata": {},
   "outputs": [
    {
     "ename": "NameError",
     "evalue": "name 'reg' is not defined",
     "output_type": "error",
     "traceback": [
      "\u001b[1;31m---------------------------------------------------------------------------\u001b[0m",
      "\u001b[1;31mNameError\u001b[0m                                 Traceback (most recent call last)",
      "\u001b[1;32m~\\AppData\\Local\\Temp/ipykernel_59860/3478879727.py\u001b[0m in \u001b[0;36m<module>\u001b[1;34m\u001b[0m\n\u001b[1;32m----> 1\u001b[1;33m \u001b[0mprint\u001b[0m\u001b[1;33m(\u001b[0m\u001b[0mreg\u001b[0m\u001b[1;33m.\u001b[0m\u001b[0mpredict\u001b[0m\u001b[1;33m(\u001b[0m\u001b[1;33m[\u001b[0m\u001b[1;33m[\u001b[0m\u001b[1;36m1.5\u001b[0m\u001b[1;33m]\u001b[0m\u001b[1;33m,\u001b[0m\u001b[1;33m[\u001b[0m\u001b[1;36m1.8\u001b[0m\u001b[1;33m]\u001b[0m\u001b[1;33m,\u001b[0m\u001b[1;33m[\u001b[0m\u001b[1;36m2.0\u001b[0m\u001b[1;33m]\u001b[0m\u001b[1;33m,\u001b[0m\u001b[1;33m[\u001b[0m\u001b[1;36m2.1\u001b[0m\u001b[1;33m]\u001b[0m\u001b[1;33m,\u001b[0m\u001b[1;33m[\u001b[0m\u001b[1;36m2.2\u001b[0m\u001b[1;33m]\u001b[0m\u001b[1;33m]\u001b[0m\u001b[1;33m)\u001b[0m\u001b[1;33m)\u001b[0m\u001b[1;33m\u001b[0m\u001b[1;33m\u001b[0m\u001b[0m\n\u001b[0m\u001b[0;32m      2\u001b[0m \u001b[1;33m\u001b[0m\u001b[0m\n\u001b[0;32m      3\u001b[0m \u001b[1;33m\u001b[0m\u001b[0m\n\u001b[0;32m      4\u001b[0m \u001b[1;31m# plot the RSSI\u001b[0m\u001b[1;33m\u001b[0m\u001b[1;33m\u001b[0m\u001b[0m\n\u001b[0;32m      5\u001b[0m \u001b[0mplt\u001b[0m\u001b[1;33m.\u001b[0m\u001b[0mplot\u001b[0m\u001b[1;33m(\u001b[0m\u001b[0mdistance\u001b[0m\u001b[1;33m,\u001b[0m \u001b[0mRSSI\u001b[0m\u001b[1;33m,\u001b[0m \u001b[1;34m'ro'\u001b[0m\u001b[1;33m)\u001b[0m\u001b[1;33m\u001b[0m\u001b[1;33m\u001b[0m\u001b[0m\n",
      "\u001b[1;31mNameError\u001b[0m: name 'reg' is not defined"
     ]
    }
   ],
   "source": [
    "print(reg.predict([[1.5],[1.8],[2.0],[2.1],[2.2]]))\n",
    "\n",
    "\n",
    "# plot the RSSI\n",
    "plt.plot(distance, RSSI, 'ro')\n",
    "plt.plot(distance, reg.predict(distance), 'b-')\n",
    "plt.show()"
   ]
  },
  {
   "cell_type": "code",
   "execution_count": 20,
   "id": "d1435cb6",
   "metadata": {},
   "outputs": [
    {
     "data": {
      "image/png": "[encoded data removed]",
      "text/plain": [
       "<Figure size 432x288 with 1 Axes>"
      ]
     },
     "metadata": {
      "needs_background": "light"
     },
     "output_type": "display_data"
    }
   ],
   "source": [
    "plt.scatter(RSSI, distance)\n",
    "plt.show()"
   ]
  },
  {
   "cell_type": "code",
   "execution_count": 21,
   "id": "20cf2a7e",
   "metadata": {},
   "outputs": [
    {
     "name": "stderr",
     "output_type": "stream",
     "text": [
      "C:\\Users\\yyzll\\anaconda3\\lib\\site-packages\\sklearn\\preprocessing\\_label.py:115: DataConversionWarning: A column-vector y was passed when a 1d array was expected. Please change the shape of y to (n_samples, ), for example using ravel().\n",
      "  y = column_or_1d(y, warn=True)\n"
     ]
    }
   ],
   "source": [
    "# Import LabelEncoder\n",
    "from sklearn import preprocessing\n",
    "#creating labelEncoder\n",
    "le = preprocessing.LabelEncoder()\n",
    "# Converting string labels into numbers.\n",
    "distance_encoded=le.fit_transform(tag)"
   ]
  },
  {
   "cell_type": "code",
   "execution_count": 22,
   "id": "c898295c",
   "metadata": {},
   "outputs": [
    {
     "data": {
      "text/plain": [
       "array([0, 0, 0, 0, 0, 0, 0, 0, 0, 0, 0, 0, 0, 0, 0, 0, 0, 0, 0, 0, 0, 0,\n",
       "       0, 0, 0, 0, 0, 0, 0, 0, 0, 0, 0, 0, 0, 0, 0, 0, 0, 0, 0, 0, 0, 0,\n",
       "       0, 0, 0, 0, 0, 0, 0, 0, 0, 0, 0, 0, 0, 0, 0, 0, 0, 0, 0, 0, 0, 0,\n",
       "       0, 0, 0, 0, 0, 0, 0, 0, 0, 0, 0, 0, 0, 0, 0, 0, 0, 0, 0, 0, 0, 0,\n",
       "       0, 0, 0, 0, 0, 0, 0, 0, 0, 0, 0, 0, 0, 0, 0, 0, 0, 0, 0, 0, 0, 0,\n",
       "       0, 0, 1, 1, 1, 1, 1, 1, 1, 1, 1, 1, 1, 1, 1, 1, 1, 1, 1, 1, 1, 1,\n",
       "       1, 1, 1, 1, 1, 1, 1, 1, 1, 1, 1, 1, 1, 1, 1, 1, 1, 1, 1, 1, 1, 1,\n",
       "       1, 1, 1, 1, 1, 1, 1, 1, 1, 1, 1, 1, 1, 1, 1, 1, 1, 1, 1, 1, 1, 1,\n",
       "       1, 1, 1, 1, 1, 1, 1, 1, 1, 1, 1, 1, 1, 1, 1, 1, 1, 1, 1, 1, 1, 1,\n",
       "       1, 1, 1, 1, 1, 1, 1, 1, 1, 1, 1, 1, 1, 1, 1, 1, 1, 1, 1, 1, 1, 1,\n",
       "       1, 1, 1, 1, 1, 1, 1, 1, 1, 1, 1, 1, 1, 1, 1, 1, 1, 1, 1, 1, 1, 1,\n",
       "       1, 1, 1, 1, 1, 1, 1, 1], dtype=int64)"
      ]
     },
     "execution_count": 22,
     "metadata": {},
     "output_type": "execute_result"
    }
   ],
   "source": [
    "distance_encoded"
   ]
  },
  {
   "cell_type": "code",
   "execution_count": 23,
   "id": "368d3743",
   "metadata": {},
   "outputs": [],
   "source": [
    "from sklearn.model_selection import train_test_split\n",
    "\n",
    "X_train, X_test, y_train, y_test = train_test_split( RSSI, distance_encoded, random_state = 100)"
   ]
  },
  {
   "cell_type": "code",
   "execution_count": null,
   "id": "5ccbc495",
   "metadata": {},
   "outputs": [],
   "source": []
  },
  {
   "cell_type": "code",
   "execution_count": 24,
   "id": "618fd4d7",
   "metadata": {},
   "outputs": [
    {
     "data": {
      "text/html": [
       "<style>#sk-container-id-1 {color: black;background-color: white;}#sk-container-id-1 pre{padding: 0;}#sk-container-id-1 div.sk-toggleable {background-color: white;}#sk-container-id-1 label.sk-toggleable__label {cursor: pointer;display: block;width: 100%;margin-bottom: 0;padding: 0.3em;box-sizing: border-box;text-align: center;}#sk-container-id-1 label.sk-toggleable__label-arrow:before {content: \"▸\";float: left;margin-right: 0.25em;color: #696969;}#sk-container-id-1 label.sk-toggleable__label-arrow:hover:before {color: black;}#sk-container-id-1 div.sk-estimator:hover label.sk-toggleable__label-arrow:before {color: black;}#sk-container-id-1 div.sk-toggleable__content {max-height: 0;max-width: 0;overflow: hidden;text-align: left;background-color: #f0f8ff;}#sk-container-id-1 div.sk-toggleable__content pre {margin: 0.2em;color: black;border-radius: 0.25em;background-color: #f0f8ff;}#sk-container-id-1 input.sk-toggleable__control:checked~div.sk-toggleable__content {max-height: 200px;max-width: 100%;overflow: auto;}#sk-container-id-1 input.sk-toggleable__control:checked~label.sk-toggleable__label-arrow:before {content: \"▾\";}#sk-container-id-1 div.sk-estimator input.sk-toggleable__control:checked~label.sk-toggleable__label {background-color: #d4ebff;}#sk-container-id-1 div.sk-label input.sk-toggleable__control:checked~label.sk-toggleable__label {background-color: #d4ebff;}#sk-container-id-1 input.sk-hidden--visually {border: 0;clip: rect(1px 1px 1px 1px);clip: rect(1px, 1px, 1px, 1px);height: 1px;margin: -1px;overflow: hidden;padding: 0;position: absolute;width: 1px;}#sk-container-id-1 div.sk-estimator {font-family: monospace;background-color: #f0f8ff;border: 1px dotted black;border-radius: 0.25em;box-sizing: border-box;margin-bottom: 0.5em;}#sk-container-id-1 div.sk-estimator:hover {background-color: #d4ebff;}#sk-container-id-1 div.sk-parallel-item::after {content: \"\";width: 100%;border-bottom: 1px solid gray;flex-grow: 1;}#sk-container-id-1 div.sk-label:hover label.sk-toggleable__label {background-color: #d4ebff;}#sk-container-id-1 div.sk-serial::before {content: \"\";position: absolute;border-left: 1px solid gray;box-sizing: border-box;top: 0;bottom: 0;left: 50%;z-index: 0;}#sk-container-id-1 div.sk-serial {display: flex;flex-direction: column;align-items: center;background-color: white;padding-right: 0.2em;padding-left: 0.2em;position: relative;}#sk-container-id-1 div.sk-item {position: relative;z-index: 1;}#sk-container-id-1 div.sk-parallel {display: flex;align-items: stretch;justify-content: center;background-color: white;position: relative;}#sk-container-id-1 div.sk-item::before, #sk-container-id-1 div.sk-parallel-item::before {content: \"\";position: absolute;border-left: 1px solid gray;box-sizing: border-box;top: 0;bottom: 0;left: 50%;z-index: -1;}#sk-container-id-1 div.sk-parallel-item {display: flex;flex-direction: column;z-index: 1;position: relative;background-color: white;}#sk-container-id-1 div.sk-parallel-item:first-child::after {align-self: flex-end;width: 50%;}#sk-container-id-1 div.sk-parallel-item:last-child::after {align-self: flex-start;width: 50%;}#sk-container-id-1 div.sk-parallel-item:only-child::after {width: 0;}#sk-container-id-1 div.sk-dashed-wrapped {border: 1px dashed gray;margin: 0 0.4em 0.5em 0.4em;box-sizing: border-box;padding-bottom: 0.4em;background-color: white;}#sk-container-id-1 div.sk-label label {font-family: monospace;font-weight: bold;display: inline-block;line-height: 1.2em;}#sk-container-id-1 div.sk-label-container {text-align: center;}#sk-container-id-1 div.sk-container {/* jupyter's `normalize.less` sets `[hidden] { display: none; }` but bootstrap.min.css set `[hidden] { display: none !important; }` so we also need the `!important` here to be able to override the default hidden behavior on the sphinx rendered scikit-learn.org. See: https://github.com/scikit-learn/scikit-learn/issues/21755 */display: inline-block !important;position: relative;}#sk-container-id-1 div.sk-text-repr-fallback {display: none;}</style><div id=\"sk-container-id-1\" class=\"sk-top-container\"><div class=\"sk-text-repr-fallback\"><pre>KNeighborsClassifier()</pre><b>In a Jupyter environment, please rerun this cell to show the HTML representation or trust the notebook. <br />On GitHub, the HTML representation is unable to render, please try loading this page with nbviewer.org.</b></div><div class=\"sk-container\" hidden><div class=\"sk-item\"><div class=\"sk-estimator sk-toggleable\"><input class=\"sk-toggleable__control sk-hidden--visually\" id=\"sk-estimator-id-1\" type=\"checkbox\" checked><label for=\"sk-estimator-id-1\" class=\"sk-toggleable__label sk-toggleable__label-arrow\">KNeighborsClassifier</label><div class=\"sk-toggleable__content\"><pre>KNeighborsClassifier()</pre></div></div></div></div></div>"
      ],
      "text/plain": [
       "KNeighborsClassifier()"
      ]
     },
     "execution_count": 24,
     "metadata": {},
     "output_type": "execute_result"
    }
   ],
   "source": [
    "KNeighborsClassifier(\n",
    "    n_neighbors=5,          # The number of neighbours to consider            # How many parallel jobs to run\n",
    ")"
   ]
  },
  {
   "cell_type": "code",
   "execution_count": 25,
   "id": "c7a5a334",
   "metadata": {},
   "outputs": [],
   "source": [
    "clf = KNeighborsClassifier()"
   ]
  },
  {
   "cell_type": "code",
   "execution_count": 26,
   "id": "4f40b3b1",
   "metadata": {},
   "outputs": [
    {
     "data": {
      "text/html": [
       "<style>#sk-container-id-2 {color: black;background-color: white;}#sk-container-id-2 pre{padding: 0;}#sk-container-id-2 div.sk-toggleable {background-color: white;}#sk-container-id-2 label.sk-toggleable__label {cursor: pointer;display: block;width: 100%;margin-bottom: 0;padding: 0.3em;box-sizing: border-box;text-align: center;}#sk-container-id-2 label.sk-toggleable__label-arrow:before {content: \"▸\";float: left;margin-right: 0.25em;color: #696969;}#sk-container-id-2 label.sk-toggleable__label-arrow:hover:before {color: black;}#sk-container-id-2 div.sk-estimator:hover label.sk-toggleable__label-arrow:before {color: black;}#sk-container-id-2 div.sk-toggleable__content {max-height: 0;max-width: 0;overflow: hidden;text-align: left;background-color: #f0f8ff;}#sk-container-id-2 div.sk-toggleable__content pre {margin: 0.2em;color: black;border-radius: 0.25em;background-color: #f0f8ff;}#sk-container-id-2 input.sk-toggleable__control:checked~div.sk-toggleable__content {max-height: 200px;max-width: 100%;overflow: auto;}#sk-container-id-2 input.sk-toggleable__control:checked~label.sk-toggleable__label-arrow:before {content: \"▾\";}#sk-container-id-2 div.sk-estimator input.sk-toggleable__control:checked~label.sk-toggleable__label {background-color: #d4ebff;}#sk-container-id-2 div.sk-label input.sk-toggleable__control:checked~label.sk-toggleable__label {background-color: #d4ebff;}#sk-container-id-2 input.sk-hidden--visually {border: 0;clip: rect(1px 1px 1px 1px);clip: rect(1px, 1px, 1px, 1px);height: 1px;margin: -1px;overflow: hidden;padding: 0;position: absolute;width: 1px;}#sk-container-id-2 div.sk-estimator {font-family: monospace;background-color: #f0f8ff;border: 1px dotted black;border-radius: 0.25em;box-sizing: border-box;margin-bottom: 0.5em;}#sk-container-id-2 div.sk-estimator:hover {background-color: #d4ebff;}#sk-container-id-2 div.sk-parallel-item::after {content: \"\";width: 100%;border-bottom: 1px solid gray;flex-grow: 1;}#sk-container-id-2 div.sk-label:hover label.sk-toggleable__label {background-color: #d4ebff;}#sk-container-id-2 div.sk-serial::before {content: \"\";position: absolute;border-left: 1px solid gray;box-sizing: border-box;top: 0;bottom: 0;left: 50%;z-index: 0;}#sk-container-id-2 div.sk-serial {display: flex;flex-direction: column;align-items: center;background-color: white;padding-right: 0.2em;padding-left: 0.2em;position: relative;}#sk-container-id-2 div.sk-item {position: relative;z-index: 1;}#sk-container-id-2 div.sk-parallel {display: flex;align-items: stretch;justify-content: center;background-color: white;position: relative;}#sk-container-id-2 div.sk-item::before, #sk-container-id-2 div.sk-parallel-item::before {content: \"\";position: absolute;border-left: 1px solid gray;box-sizing: border-box;top: 0;bottom: 0;left: 50%;z-index: -1;}#sk-container-id-2 div.sk-parallel-item {display: flex;flex-direction: column;z-index: 1;position: relative;background-color: white;}#sk-container-id-2 div.sk-parallel-item:first-child::after {align-self: flex-end;width: 50%;}#sk-container-id-2 div.sk-parallel-item:last-child::after {align-self: flex-start;width: 50%;}#sk-container-id-2 div.sk-parallel-item:only-child::after {width: 0;}#sk-container-id-2 div.sk-dashed-wrapped {border: 1px dashed gray;margin: 0 0.4em 0.5em 0.4em;box-sizing: border-box;padding-bottom: 0.4em;background-color: white;}#sk-container-id-2 div.sk-label label {font-family: monospace;font-weight: bold;display: inline-block;line-height: 1.2em;}#sk-container-id-2 div.sk-label-container {text-align: center;}#sk-container-id-2 div.sk-container {/* jupyter's `normalize.less` sets `[hidden] { display: none; }` but bootstrap.min.css set `[hidden] { display: none !important; }` so we also need the `!important` here to be able to override the default hidden behavior on the sphinx rendered scikit-learn.org. See: https://github.com/scikit-learn/scikit-learn/issues/21755 */display: inline-block !important;position: relative;}#sk-container-id-2 div.sk-text-repr-fallback {display: none;}</style><div id=\"sk-container-id-2\" class=\"sk-top-container\"><div class=\"sk-text-repr-fallback\"><pre>KNeighborsClassifier()</pre><b>In a Jupyter environment, please rerun this cell to show the HTML representation or trust the notebook. <br />On GitHub, the HTML representation is unable to render, please try loading this page with nbviewer.org.</b></div><div class=\"sk-container\" hidden><div class=\"sk-item\"><div class=\"sk-estimator sk-toggleable\"><input class=\"sk-toggleable__control sk-hidden--visually\" id=\"sk-estimator-id-2\" type=\"checkbox\" checked><label for=\"sk-estimator-id-2\" class=\"sk-toggleable__label sk-toggleable__label-arrow\">KNeighborsClassifier</label><div class=\"sk-toggleable__content\"><pre>KNeighborsClassifier()</pre></div></div></div></div></div>"
      ],
      "text/plain": [
       "KNeighborsClassifier()"
      ]
     },
     "execution_count": 26,
     "metadata": {},
     "output_type": "execute_result"
    }
   ],
   "source": [
    "clf.fit(X_train, y_train)"
   ]
  },
  {
   "cell_type": "code",
   "execution_count": 27,
   "id": "ac87ed28",
   "metadata": {},
   "outputs": [
    {
     "data": {
      "text/plain": [
       "[[-73],\n",
       " [-78],\n",
       " [-90],\n",
       " [-89],\n",
       " [-83],\n",
       " [-85],\n",
       " [-87],\n",
       " [-85],\n",
       " [-88],\n",
       " [-92],\n",
       " [-88],\n",
       " [-79],\n",
       " [-93],\n",
       " [-85],\n",
       " [-84],\n",
       " [-91],\n",
       " [-76],\n",
       " [-93],\n",
       " [-80],\n",
       " [-90],\n",
       " [-76],\n",
       " [-86],\n",
       " [-81],\n",
       " [-95],\n",
       " [-94],\n",
       " [-89],\n",
       " [-73],\n",
       " [-91],\n",
       " [-95],\n",
       " [-90],\n",
       " [-75],\n",
       " [-93],\n",
       " [-74],\n",
       " [-85],\n",
       " [-84],\n",
       " [-92],\n",
       " [-86],\n",
       " [-95],\n",
       " [-93],\n",
       " [-85],\n",
       " [-96],\n",
       " [-84],\n",
       " [-92],\n",
       " [-86],\n",
       " [-75],\n",
       " [-83],\n",
       " [-76],\n",
       " [-96],\n",
       " [-79],\n",
       " [-81],\n",
       " [-84],\n",
       " [-86],\n",
       " [-85],\n",
       " [-93],\n",
       " [-88],\n",
       " [-98],\n",
       " [-72],\n",
       " [-92],\n",
       " [-87],\n",
       " [-76],\n",
       " [-90],\n",
       " [-89],\n",
       " [-97]]"
      ]
     },
     "execution_count": 27,
     "metadata": {},
     "output_type": "execute_result"
    }
   ],
   "source": [
    "predictions = clf.predict(X_test)\n",
    "X_test"
   ]
  },
  {
   "cell_type": "code",
   "execution_count": 28,
   "id": "f1882bfb",
   "metadata": {},
   "outputs": [
    {
     "data": {
      "text/html": [
       "<div>\n",
       "<style scoped>\n",
       "    .dataframe tbody tr th:only-of-type {\n",
       "        vertical-align: middle;\n",
       "    }\n",
       "\n",
       "    .dataframe tbody tr th {\n",
       "        vertical-align: top;\n",
       "    }\n",
       "\n",
       "    .dataframe thead th {\n",
       "        text-align: right;\n",
       "    }\n",
       "</style>\n",
       "<table border=\"1\" class=\"dataframe\">\n",
       "  <thead>\n",
       "    <tr style=\"text-align: right;\">\n",
       "      <th></th>\n",
       "      <th>RSSI</th>\n",
       "      <th>distance</th>\n",
       "      <th>tag</th>\n",
       "    </tr>\n",
       "  </thead>\n",
       "  <tbody>\n",
       "    <tr>\n",
       "      <th>0</th>\n",
       "      <td>-50</td>\n",
       "      <td>1.0</td>\n",
       "      <td>buzzer</td>\n",
       "    </tr>\n",
       "    <tr>\n",
       "      <th>1</th>\n",
       "      <td>-46</td>\n",
       "      <td>1.0</td>\n",
       "      <td>buzzer</td>\n",
       "    </tr>\n",
       "    <tr>\n",
       "      <th>2</th>\n",
       "      <td>-50</td>\n",
       "      <td>1.0</td>\n",
       "      <td>buzzer</td>\n",
       "    </tr>\n",
       "    <tr>\n",
       "      <th>3</th>\n",
       "      <td>-48</td>\n",
       "      <td>1.0</td>\n",
       "      <td>buzzer</td>\n",
       "    </tr>\n",
       "    <tr>\n",
       "      <th>4</th>\n",
       "      <td>-49</td>\n",
       "      <td>1.0</td>\n",
       "      <td>buzzer</td>\n",
       "    </tr>\n",
       "    <tr>\n",
       "      <th>...</th>\n",
       "      <td>...</td>\n",
       "      <td>...</td>\n",
       "      <td>...</td>\n",
       "    </tr>\n",
       "    <tr>\n",
       "      <th>913</th>\n",
       "      <td>-59</td>\n",
       "      <td>1.5</td>\n",
       "      <td>buzzer</td>\n",
       "    </tr>\n",
       "    <tr>\n",
       "      <th>914</th>\n",
       "      <td>-64</td>\n",
       "      <td>1.5</td>\n",
       "      <td>buzzer</td>\n",
       "    </tr>\n",
       "    <tr>\n",
       "      <th>915</th>\n",
       "      <td>-59</td>\n",
       "      <td>1.5</td>\n",
       "      <td>buzzer</td>\n",
       "    </tr>\n",
       "    <tr>\n",
       "      <th>916</th>\n",
       "      <td>-76</td>\n",
       "      <td>1.5</td>\n",
       "      <td>buzzer</td>\n",
       "    </tr>\n",
       "    <tr>\n",
       "      <th>917</th>\n",
       "      <td>-75</td>\n",
       "      <td>1.5</td>\n",
       "      <td>buzzer</td>\n",
       "    </tr>\n",
       "  </tbody>\n",
       "</table>\n",
       "<p>918 rows × 3 columns</p>\n",
       "</div>"
      ],
      "text/plain": [
       "     RSSI  distance     tag\n",
       "0     -50       1.0  buzzer\n",
       "1     -46       1.0  buzzer\n",
       "2     -50       1.0  buzzer\n",
       "3     -48       1.0  buzzer\n",
       "4     -49       1.0  buzzer\n",
       "..    ...       ...     ...\n",
       "913   -59       1.5  buzzer\n",
       "914   -64       1.5  buzzer\n",
       "915   -59       1.5  buzzer\n",
       "916   -76       1.5  buzzer\n",
       "917   -75       1.5  buzzer\n",
       "\n",
       "[918 rows x 3 columns]"
      ]
     },
     "execution_count": 28,
     "metadata": {},
     "output_type": "execute_result"
    }
   ],
   "source": [
    "dd = pd.read_csv(\"ep.csv\")\n",
    "dd"
   ]
  },
  {
   "cell_type": "code",
   "execution_count": null,
   "id": "0eac4a21",
   "metadata": {},
   "outputs": [],
   "source": [
    "teRSSI = np.array(dd['RSSI'])\n",
    "teRSSI\n",
    "teRSSI = [[i] for i in teRSSI]\n",
    "teRSSI"
   ]
  },
  {
   "cell_type": "code",
   "execution_count": null,
   "id": "2d7a2bae",
   "metadata": {},
   "outputs": [],
   "source": [
    "tag1 = np.array(dd[\"tag\"])\n",
    "tag1 = [[i] for i in tag1]\n",
    "tag1\n",
    "distance_encoded1=le.fit_transform(tag1)\n",
    "distance_encoded1\n",
    "distance1 = np.array(dd[\"distance\"])\n",
    "distance1 = [[i] for i in distance1]\n",
    "distance1"
   ]
  },
  {
   "cell_type": "code",
   "execution_count": null,
   "id": "5d317ab2",
   "metadata": {},
   "outputs": [],
   "source": [
    "plt.scatter(teRSSI, distance1)\n",
    "plt.show()"
   ]
  },
  {
   "cell_type": "code",
   "execution_count": null,
   "id": "481969b5",
   "metadata": {
    "scrolled": true
   },
   "outputs": [],
   "source": [
    "predictions1 = clf.predict(teRSSI)\n",
    "predictions1"
   ]
  },
  {
   "cell_type": "code",
   "execution_count": null,
   "id": "cba3ea17",
   "metadata": {},
   "outputs": [],
   "source": [
    "s4 = cross_val_score(dtr_model, teRSSI, distance_encoded1, cv=10)\n",
    "s4 = s4.mean()\n",
    "s4"
   ]
  },
  {
   "cell_type": "code",
   "execution_count": 29,
   "id": "535fe4bd",
   "metadata": {},
   "outputs": [
    {
     "name": "stdout",
     "output_type": "stream",
     "text": [
      "0.8253968253968254\n"
     ]
    }
   ],
   "source": [
    "from sklearn.metrics import accuracy_score\n",
    "print(accuracy_score(y_test, predictions))\n",
    "s1 = accuracy_score(y_test, predictions)"
   ]
  },
  {
   "cell_type": "code",
   "execution_count": 30,
   "id": "48a2a6da",
   "metadata": {},
   "outputs": [],
   "source": [
    "from sklearn.linear_model import LogisticRegression\n",
    "classifier = LogisticRegression()\n",
    "reg = classifier.fit(X_train, y_train)\n",
    " \n",
    "# Predicting the Test set results\n",
    "y_pred = classifier.predict(X_test)"
   ]
  },
  {
   "cell_type": "code",
   "execution_count": 31,
   "id": "67e90a25",
   "metadata": {},
   "outputs": [],
   "source": [
    "from sklearn.linear_model import LogisticRegression\n",
    "from sklearn.svm import LinearSVC\n",
    "from sklearn.tree import DecisionTreeClassifier\n",
    "from sklearn.ensemble import RandomForestClassifier\n",
    "from sklearn.naive_bayes import GaussianNB\n",
    "\n",
    "# Instantiate the machine learning classifiers\n",
    "log_model = LogisticRegression(max_iter=10000)\n",
    "svc_model = LinearSVC(dual=False)\n",
    "dtr_model = DecisionTreeClassifier()\n",
    "rfc_model = RandomForestClassifier(max_depth=100)\n",
    "gnb_model = GaussianNB()"
   ]
  },
  {
   "cell_type": "code",
   "execution_count": 32,
   "id": "6e952bfc",
   "metadata": {},
   "outputs": [
    {
     "name": "stdout",
     "output_type": "stream",
     "text": [
      "0.812\n"
     ]
    }
   ],
   "source": [
    "#log_model.fit(X_train, y_train)\n",
    "#y_pred = log_model.predict(X_test)\n",
    "#y_pred\n",
    "s2 = cross_val_score(log_model, RSSI, distance_encoded, cv=10)\n",
    "#score_mean = np.array(score2)\n",
    "s2 = s2.mean()\n",
    "print(s2)\n",
    "#print(accuracy_score(y_test, y_pred))\n",
    "#s2 = accuracy_score(y_test, y_pred)"
   ]
  },
  {
   "cell_type": "code",
   "execution_count": 33,
   "id": "dcd63908",
   "metadata": {},
   "outputs": [
    {
     "data": {
      "text/plain": [
       "0.82"
      ]
     },
     "execution_count": 33,
     "metadata": {},
     "output_type": "execute_result"
    }
   ],
   "source": [
    "#svc_model.fit(X_train, y_train)\n",
    "#y_pred = svc_model.predict(X_test)\n",
    "#y_pred\n",
    "#print(accuracy_score(y_test, y_pred))\n",
    "s3 = cross_val_score(svc_model, RSSI, distance_encoded, cv=10)\n",
    "s3 = s3.mean()\n",
    "s3"
   ]
  },
  {
   "cell_type": "code",
   "execution_count": 48,
   "id": "5edb108c",
   "metadata": {},
   "outputs": [
    {
     "data": {
      "text/plain": [
       "0.828"
      ]
     },
     "execution_count": 48,
     "metadata": {},
     "output_type": "execute_result"
    }
   ],
   "source": [
    "#dtr_model.fit(X_train, y_train)\n",
    "#y_pred = dtr_model.predict(X_test)\n",
    "#y_pred\n",
    "#print(accuracy_score(y_test, y_pred))\n",
    "#s4 = accuracy_score(y_test, y_pred)\n",
    "s4 = cross_val_score(dtr_model, RSSI, distance_encoded, cv=10)\n",
    "s4 = s4.mean()\n",
    "s4"
   ]
  },
  {
   "cell_type": "code",
   "execution_count": 50,
   "id": "ab3dc7e7",
   "metadata": {},
   "outputs": [
    {
     "name": "stdout",
     "output_type": "stream",
     "text": [
      "0.8412698412698413\n"
     ]
    }
   ],
   "source": [
    "dtr_model.fit(X_train, y_train)\n",
    "y_pred = dtr_model.predict(X_test)\n",
    "y_pred\n",
    "print(accuracy_score(y_test, y_pred))\n",
    "s4 = accuracy_score(y_test, y_pred)"
   ]
  },
  {
   "cell_type": "code",
   "execution_count": 35,
   "id": "5121e6e0",
   "metadata": {},
   "outputs": [
    {
     "data": {
      "text/plain": [
       "0.8240000000000001"
      ]
     },
     "execution_count": 35,
     "metadata": {},
     "output_type": "execute_result"
    }
   ],
   "source": [
    "#rfc_model.fit(X_train, y_train)\n",
    "#y_pred = rfc_model.predict(X_test)\n",
    "#y_pred\n",
    "#print(accuracy_score(y_test, y_pred))\n",
    "#s5 = accuracy_score(y_test,y_pred)\n",
    "s5 = cross_val_score(rfc_model, RSSI, distance_encoded, cv=10)\n",
    "s5 = s5.mean()\n",
    "s5"
   ]
  },
  {
   "cell_type": "code",
   "execution_count": 36,
   "id": "c054bc60",
   "metadata": {},
   "outputs": [
    {
     "data": {
      "text/plain": [
       "0.812"
      ]
     },
     "execution_count": 36,
     "metadata": {},
     "output_type": "execute_result"
    }
   ],
   "source": [
    "#gnb_model.fit(X_train, y_train)\n",
    "#y_pred = gnb_model.predict(X_test)\n",
    "#y_pred\n",
    "#print(accuracy_score(y_test, y_pred))\n",
    "#s6 = accuracy_score(y_test, y_pred)\n",
    "#s6\n",
    "s6 = cross_val_score(gnb_model, RSSI, distance_encoded, cv=10)\n",
    "s6 = s6.mean()\n",
    "s6"
   ]
  },
  {
   "cell_type": "code",
   "execution_count": 55,
   "id": "62f926f3",
   "metadata": {},
   "outputs": [
    {
     "ename": "AttributeError",
     "evalue": "'DataFrame' object has no attribute 'load_iris'",
     "output_type": "error",
     "traceback": [
      "\u001b[1;31m---------------------------------------------------------------------------\u001b[0m",
      "\u001b[1;31mAttributeError\u001b[0m                            Traceback (most recent call last)",
      "\u001b[1;32m~\\AppData\\Local\\Temp/ipykernel_59860/2117622690.py\u001b[0m in \u001b[0;36m<module>\u001b[1;34m\u001b[0m\n\u001b[1;32m----> 1\u001b[1;33m \u001b[0miris\u001b[0m \u001b[1;33m=\u001b[0m \u001b[0mdt\u001b[0m\u001b[1;33m.\u001b[0m\u001b[0mload_iris\u001b[0m\u001b[1;33m(\u001b[0m\u001b[1;33m)\u001b[0m\u001b[1;33m\u001b[0m\u001b[1;33m\u001b[0m\u001b[0m\n\u001b[0m",
      "\u001b[1;32m~\\anaconda3\\lib\\site-packages\\pandas\\core\\generic.py\u001b[0m in \u001b[0;36m__getattr__\u001b[1;34m(self, name)\u001b[0m\n\u001b[0;32m   5485\u001b[0m         ):\n\u001b[0;32m   5486\u001b[0m             \u001b[1;32mreturn\u001b[0m \u001b[0mself\u001b[0m\u001b[1;33m[\u001b[0m\u001b[0mname\u001b[0m\u001b[1;33m]\u001b[0m\u001b[1;33m\u001b[0m\u001b[1;33m\u001b[0m\u001b[0m\n\u001b[1;32m-> 5487\u001b[1;33m         \u001b[1;32mreturn\u001b[0m \u001b[0mobject\u001b[0m\u001b[1;33m.\u001b[0m\u001b[0m__getattribute__\u001b[0m\u001b[1;33m(\u001b[0m\u001b[0mself\u001b[0m\u001b[1;33m,\u001b[0m \u001b[0mname\u001b[0m\u001b[1;33m)\u001b[0m\u001b[1;33m\u001b[0m\u001b[1;33m\u001b[0m\u001b[0m\n\u001b[0m\u001b[0;32m   5488\u001b[0m \u001b[1;33m\u001b[0m\u001b[0m\n\u001b[0;32m   5489\u001b[0m     \u001b[1;32mdef\u001b[0m \u001b[0m__setattr__\u001b[0m\u001b[1;33m(\u001b[0m\u001b[0mself\u001b[0m\u001b[1;33m,\u001b[0m \u001b[0mname\u001b[0m\u001b[1;33m:\u001b[0m \u001b[0mstr\u001b[0m\u001b[1;33m,\u001b[0m \u001b[0mvalue\u001b[0m\u001b[1;33m)\u001b[0m \u001b[1;33m->\u001b[0m \u001b[1;32mNone\u001b[0m\u001b[1;33m:\u001b[0m\u001b[1;33m\u001b[0m\u001b[1;33m\u001b[0m\u001b[0m\n",
      "\u001b[1;31mAttributeError\u001b[0m: 'DataFrame' object has no attribute 'load_iris'"
     ]
    }
   ],
   "source": [
    "iris = dt.load_iris()"
   ]
  },
  {
   "cell_type": "code",
   "execution_count": 65,
   "id": "b7d2f902",
   "metadata": {},
   "outputs": [
    {
     "name": "stdout",
     "output_type": "stream",
     "text": [
      "|--- feature_0 <= -82.50\n",
      "|   |--- feature_0 <= -101.00\n",
      "|   |   |--- class: 0\n",
      "|   |--- feature_0 >  -101.00\n",
      "|   |   |--- feature_0 <= -87.50\n",
      "|   |   |   |--- feature_0 <= -97.50\n",
      "|   |   |   |   |--- feature_0 <= -98.50\n",
      "|   |   |   |   |   |--- class: 1\n",
      "|   |   |   |   |--- feature_0 >  -98.50\n",
      "|   |   |   |   |   |--- class: 0\n",
      "|   |   |   |--- feature_0 >  -97.50\n",
      "|   |   |   |   |--- feature_0 <= -92.50\n",
      "|   |   |   |   |   |--- feature_0 <= -94.50\n",
      "|   |   |   |   |   |   |--- feature_0 <= -95.50\n",
      "|   |   |   |   |   |   |   |--- class: 1\n",
      "|   |   |   |   |   |   |--- feature_0 >  -95.50\n",
      "|   |   |   |   |   |   |   |--- class: 1\n",
      "|   |   |   |   |   |--- feature_0 >  -94.50\n",
      "|   |   |   |   |   |   |--- class: 1\n",
      "|   |   |   |   |--- feature_0 >  -92.50\n",
      "|   |   |   |   |   |--- feature_0 <= -89.50\n",
      "|   |   |   |   |   |   |--- feature_0 <= -90.50\n",
      "|   |   |   |   |   |   |   |--- feature_0 <= -91.50\n",
      "|   |   |   |   |   |   |   |   |--- class: 1\n",
      "|   |   |   |   |   |   |   |--- feature_0 >  -91.50\n",
      "|   |   |   |   |   |   |   |   |--- class: 1\n",
      "|   |   |   |   |   |   |--- feature_0 >  -90.50\n",
      "|   |   |   |   |   |   |   |--- class: 1\n",
      "|   |   |   |   |   |--- feature_0 >  -89.50\n",
      "|   |   |   |   |   |   |--- feature_0 <= -88.50\n",
      "|   |   |   |   |   |   |   |--- class: 1\n",
      "|   |   |   |   |   |   |--- feature_0 >  -88.50\n",
      "|   |   |   |   |   |   |   |--- class: 1\n",
      "|   |   |--- feature_0 >  -87.50\n",
      "|   |   |   |--- feature_0 <= -84.50\n",
      "|   |   |   |   |--- feature_0 <= -85.50\n",
      "|   |   |   |   |   |--- feature_0 <= -86.50\n",
      "|   |   |   |   |   |   |--- class: 1\n",
      "|   |   |   |   |   |--- feature_0 >  -86.50\n",
      "|   |   |   |   |   |   |--- class: 1\n",
      "|   |   |   |   |--- feature_0 >  -85.50\n",
      "|   |   |   |   |   |--- class: 1\n",
      "|   |   |   |--- feature_0 >  -84.50\n",
      "|   |   |   |   |--- feature_0 <= -83.50\n",
      "|   |   |   |   |   |--- class: 1\n",
      "|   |   |   |   |--- feature_0 >  -83.50\n",
      "|   |   |   |   |   |--- class: 1\n",
      "|--- feature_0 >  -82.50\n",
      "|   |--- feature_0 <= -81.50\n",
      "|   |   |--- class: 0\n",
      "|   |--- feature_0 >  -81.50\n",
      "|   |   |--- feature_0 <= -78.50\n",
      "|   |   |   |--- feature_0 <= -79.50\n",
      "|   |   |   |   |--- class: 0\n",
      "|   |   |   |--- feature_0 >  -79.50\n",
      "|   |   |   |   |--- class: 0\n",
      "|   |   |--- feature_0 >  -78.50\n",
      "|   |   |   |--- class: 0\n",
      "\n"
     ]
    }
   ],
   "source": [
    "dtr_model.get_params() \n",
    "text_representation = tree.export_text(dtr_model)\n",
    "print(text_representation)\n"
   ]
  },
  {
   "cell_type": "code",
   "execution_count": 37,
   "id": "a9c74fbf",
   "metadata": {},
   "outputs": [
    {
     "data": {
      "image/png": "[encoded data removed]",
      "text/plain": [
       "<Figure size 432x288 with 1 Axes>"
      ]
     },
     "metadata": {
      "needs_background": "light"
     },
     "output_type": "display_data"
    }
   ],
   "source": [
    "y = [s6,s2,s3,s1,s4,s5]\n",
    "x = [\"GNB\",\"Log\",\"SVC\",\"KNN\",\"DTC\",\"RFC\"]\n",
    "plt.plot(x, y, color='blue', linewidth = 1.5,\n",
    "         marker='o', markerfacecolor='red', markersize=10)\n",
    "  \n",
    "# naming the x axis\n",
    "plt.xlabel('Models')\n",
    "# naming the y axis\n",
    "plt.ylabel('Accuracy')\n",
    "  \n",
    "# giving a title to my graph\n",
    "plt.title('Classifier models compression(10-Fold Cross Validation)')\n",
    "  \n",
    "# function to show the plot\n",
    "plt.show()"
   ]
  },
  {
   "cell_type": "code",
   "execution_count": null,
   "id": "e0a48d6b",
   "metadata": {},
   "outputs": [],
   "source": [
    "import numpy\n",
    "from matplotlib import pyplot\n",
    "\n",
    "x = [\"GNB\",\"Log\",\"SVC\",\"KNN\",\"DTC\",\"RFC\"]\n",
    "y = [round(s6, 3),round(s2, 3),round(s3, 3),round(s1, 3),round(s4, 3),round(s5, 3)]\n",
    "\n",
    "fig = pyplot.figure()\n",
    "ax = fig.add_subplot(111)\n",
    "ax.set_ylim(0.35,0.85)\n",
    "plt.plot(x, y, color='blue', linewidth = 0.8,\n",
    "         marker='o', markerfacecolor='red', markersize=8)\n",
    "for i,j in zip(x,y):\n",
    "    #ax.annotate(str(j),xy=(i,j+0.015))\n",
    "    ax.annotate(str(j), xy=(i,j), xytext=(-13,-18), textcoords='offset points')\n",
    "plt.xlabel('Models')\n",
    "# naming the y axis\n",
    "plt.ylabel('Accuracy')\n",
    "  \n",
    "# giving a title to my graph\n",
    "plt.title('Classifier models compression (10-Fold Cross Validation)')\n",
    "pyplot.show()"
   ]
  },
  {
   "cell_type": "code",
   "execution_count": null,
   "id": "c1304f63",
   "metadata": {},
   "outputs": [],
   "source": []
  }
 ],
 "metadata": {
  "kernelspec": {
   "display_name": "Python 3 (ipykernel)",
   "language": "python",
   "name": "python3"
  },
  "language_info": {
   "codemirror_mode": {
    "name": "ipython",
    "version": 3
   },
   "file_extension": ".py",
   "mimetype": "text/x-python",
   "name": "python",
   "nbconvert_exporter": "python",
   "pygments_lexer": "ipython3",
   "version": "3.9.7"
  }
 },
 "nbformat": 4,
 "nbformat_minor": 5
}
