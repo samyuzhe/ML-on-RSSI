{
 "cells": [
  {
   "cell_type": "code",
   "execution_count": 83,
   "id": "62c1b948",
   "metadata": {},
   "outputs": [
    {
     "data": {
      "text/html": [
       "<div>\n",
       "<style scoped>\n",
       "    .dataframe tbody tr th:only-of-type {\n",
       "        vertical-align: middle;\n",
       "    }\n",
       "\n",
       "    .dataframe tbody tr th {\n",
       "        vertical-align: top;\n",
       "    }\n",
       "\n",
       "    .dataframe thead th {\n",
       "        text-align: right;\n",
       "    }\n",
       "</style>\n",
       "<table border=\"1\" class=\"dataframe\">\n",
       "  <thead>\n",
       "    <tr style=\"text-align: right;\">\n",
       "      <th></th>\n",
       "      <th>RSSI</th>\n",
       "      <th>distance</th>\n",
       "      <th>tag</th>\n",
       "    </tr>\n",
       "  </thead>\n",
       "  <tbody>\n",
       "    <tr>\n",
       "      <th>0</th>\n",
       "      <td>-73</td>\n",
       "      <td>1.0</td>\n",
       "      <td>buzzer</td>\n",
       "    </tr>\n",
       "    <tr>\n",
       "      <th>1</th>\n",
       "      <td>-74</td>\n",
       "      <td>1.0</td>\n",
       "      <td>buzzer</td>\n",
       "    </tr>\n",
       "    <tr>\n",
       "      <th>2</th>\n",
       "      <td>-75</td>\n",
       "      <td>1.0</td>\n",
       "      <td>buzzer</td>\n",
       "    </tr>\n",
       "    <tr>\n",
       "      <th>3</th>\n",
       "      <td>-74</td>\n",
       "      <td>1.0</td>\n",
       "      <td>buzzer</td>\n",
       "    </tr>\n",
       "    <tr>\n",
       "      <th>4</th>\n",
       "      <td>-71</td>\n",
       "      <td>1.0</td>\n",
       "      <td>buzzer</td>\n",
       "    </tr>\n",
       "    <tr>\n",
       "      <th>...</th>\n",
       "      <td>...</td>\n",
       "      <td>...</td>\n",
       "      <td>...</td>\n",
       "    </tr>\n",
       "    <tr>\n",
       "      <th>772</th>\n",
       "      <td>-79</td>\n",
       "      <td>2.5</td>\n",
       "      <td>none</td>\n",
       "    </tr>\n",
       "    <tr>\n",
       "      <th>773</th>\n",
       "      <td>-79</td>\n",
       "      <td>2.5</td>\n",
       "      <td>none</td>\n",
       "    </tr>\n",
       "    <tr>\n",
       "      <th>774</th>\n",
       "      <td>-70</td>\n",
       "      <td>2.5</td>\n",
       "      <td>none</td>\n",
       "    </tr>\n",
       "    <tr>\n",
       "      <th>775</th>\n",
       "      <td>-76</td>\n",
       "      <td>2.5</td>\n",
       "      <td>none</td>\n",
       "    </tr>\n",
       "    <tr>\n",
       "      <th>776</th>\n",
       "      <td>-77</td>\n",
       "      <td>2.5</td>\n",
       "      <td>none</td>\n",
       "    </tr>\n",
       "  </tbody>\n",
       "</table>\n",
       "<p>765 rows × 3 columns</p>\n",
       "</div>"
      ],
      "text/plain": [
       "     RSSI  distance     tag\n",
       "0     -73       1.0  buzzer\n",
       "1     -74       1.0  buzzer\n",
       "2     -75       1.0  buzzer\n",
       "3     -74       1.0  buzzer\n",
       "4     -71       1.0  buzzer\n",
       "..    ...       ...     ...\n",
       "772   -79       2.5    none\n",
       "773   -79       2.5    none\n",
       "774   -70       2.5    none\n",
       "775   -76       2.5    none\n",
       "776   -77       2.5    none\n",
       "\n",
       "[765 rows x 3 columns]"
      ]
     },
     "execution_count": 83,
     "metadata": {},
     "output_type": "execute_result"
    }
   ],
   "source": [
    "import pandas as pd\n",
    "import numpy as np\n",
    "import matplotlib.pyplot as plt\n",
    "from sklearn.neighbors import KNeighborsClassifier\n",
    "from sklearn.linear_model import LinearRegression \n",
    "from sklearn.model_selection import cross_val_score\n",
    "# reading csv file\n",
    "dt1 = pd.read_csv(\"1.5m.csv\")\n",
    "dt1\n",
    "dt=dt1.drop(dt1.index[[291, 85,89 , 110,112, 113, 704, 239,242, 240, 254, 259]])\n",
    "dt"
   ]
  },
  {
   "cell_type": "code",
   "execution_count": 84,
   "id": "266bea8b",
   "metadata": {},
   "outputs": [],
   "source": [
    "RSSI = np.array(dt['RSSI'])\n",
    "RSSI = [[i] for i in RSSI]\n",
    "distance = np.array(dt[\"distance\"])\n",
    "distance = [[i] for i in distance]\n",
    "tag = np.array(dt[\"tag\"])\n",
    "tag = [[i] for i in tag]"
   ]
  },
  {
   "cell_type": "code",
   "execution_count": null,
   "id": "51284c8b",
   "metadata": {},
   "outputs": [],
   "source": []
  },
  {
   "cell_type": "code",
   "execution_count": 76,
   "id": "981755c8",
   "metadata": {},
   "outputs": [
    {
     "data": {
      "text/plain": [
       "array([], dtype=int32)"
      ]
     },
     "execution_count": 76,
     "metadata": {},
     "output_type": "execute_result"
    }
   ],
   "source": [
    "d2 = []\n",
    "dt2 = np.array(dt)\n",
    "for i in dt2:\n",
    "    dist = i[1]\n",
    "    if dist == 1.0:\n",
    "        d2.append(int(i[0]))\n",
    "d2= np.array(d2)\n",
    "s=np.std(d2)\n",
    "m=np.mean(d2)\n",
    "d2[(d2<=m-2*s) | (d2>=m+2*s)]"
   ]
  },
  {
   "cell_type": "code",
   "execution_count": 56,
   "id": "7d5158a2",
   "metadata": {},
   "outputs": [
    {
     "name": "stdout",
     "output_type": "stream",
     "text": [
      "1\n",
      "     RSSI  distance     tag\n",
      "291   -41       1.5  buzzer\n"
     ]
    },
    {
     "data": {
      "text/html": [
       "<div>\n",
       "<style scoped>\n",
       "    .dataframe tbody tr th:only-of-type {\n",
       "        vertical-align: middle;\n",
       "    }\n",
       "\n",
       "    .dataframe tbody tr th {\n",
       "        vertical-align: top;\n",
       "    }\n",
       "\n",
       "    .dataframe thead th {\n",
       "        text-align: right;\n",
       "    }\n",
       "</style>\n",
       "<table border=\"1\" class=\"dataframe\">\n",
       "  <thead>\n",
       "    <tr style=\"text-align: right;\">\n",
       "      <th></th>\n",
       "      <th>RSSI</th>\n",
       "      <th>distance</th>\n",
       "      <th>tag</th>\n",
       "    </tr>\n",
       "  </thead>\n",
       "  <tbody>\n",
       "    <tr>\n",
       "      <th>291</th>\n",
       "      <td>-41</td>\n",
       "      <td>1.5</td>\n",
       "      <td>buzzer</td>\n",
       "    </tr>\n",
       "  </tbody>\n",
       "</table>\n",
       "</div>"
      ],
      "text/plain": [
       "     RSSI  distance     tag\n",
       "291   -41       1.5  buzzer"
      ]
     },
     "execution_count": 56,
     "metadata": {},
     "output_type": "execute_result"
    }
   ],
   "source": [
    "d3 = []\n",
    "dt3 = np.array(dt)\n",
    "for i in dt3:\n",
    "    dist = i[1]\n",
    "    if dist == 1.5:\n",
    "        d3.append(int(i[0]))\n",
    "d3= np.array(d3)\n",
    "s=np.std(d3)\n",
    "m=np.mean(d3)\n",
    "d3 = d3[(d3<=m-2*s) | (d3>=m+2*s)]\n",
    "data_ = dt[dt['RSSI'].isin(d3) & dt['distance'].isin([1.5])]\n",
    "print(len(data_))\n",
    "print(data_.head())\n",
    "data_"
   ]
  },
  {
   "cell_type": "code",
   "execution_count": 57,
   "id": "fe4b116c",
   "metadata": {},
   "outputs": [
    {
     "name": "stdout",
     "output_type": "stream",
     "text": [
      "1\n",
      "    RSSI  distance     tag\n",
      "85   -85       1.7  buzzer\n"
     ]
    },
    {
     "data": {
      "text/html": [
       "<div>\n",
       "<style scoped>\n",
       "    .dataframe tbody tr th:only-of-type {\n",
       "        vertical-align: middle;\n",
       "    }\n",
       "\n",
       "    .dataframe tbody tr th {\n",
       "        vertical-align: top;\n",
       "    }\n",
       "\n",
       "    .dataframe thead th {\n",
       "        text-align: right;\n",
       "    }\n",
       "</style>\n",
       "<table border=\"1\" class=\"dataframe\">\n",
       "  <thead>\n",
       "    <tr style=\"text-align: right;\">\n",
       "      <th></th>\n",
       "      <th>RSSI</th>\n",
       "      <th>distance</th>\n",
       "      <th>tag</th>\n",
       "    </tr>\n",
       "  </thead>\n",
       "  <tbody>\n",
       "    <tr>\n",
       "      <th>85</th>\n",
       "      <td>-85</td>\n",
       "      <td>1.7</td>\n",
       "      <td>buzzer</td>\n",
       "    </tr>\n",
       "  </tbody>\n",
       "</table>\n",
       "</div>"
      ],
      "text/plain": [
       "    RSSI  distance     tag\n",
       "85   -85       1.7  buzzer"
      ]
     },
     "execution_count": 57,
     "metadata": {},
     "output_type": "execute_result"
    }
   ],
   "source": [
    "d4 = []\n",
    "dt4 = np.array(dt)\n",
    "for i in dt4:\n",
    "    dist = i[1]\n",
    "    if dist == 1.7:\n",
    "        d4.append(int(i[0]))\n",
    "d4= np.array(d4)\n",
    "s=np.std(d4)\n",
    "m=np.mean(d4)\n",
    "d4 = d4[(d4<=m-2*s) | (d4>=m+2*s)]\n",
    "data_ = dt[dt['RSSI'].isin(d4) & dt['distance'].isin([1.7])]\n",
    "print(len(data_))\n",
    "print(data_.head())\n",
    "data_"
   ]
  },
  {
   "cell_type": "code",
   "execution_count": 58,
   "id": "0f4120ce",
   "metadata": {},
   "outputs": [
    {
     "name": "stdout",
     "output_type": "stream",
     "text": [
      "4\n",
      "     RSSI  distance     tag\n",
      "89   -104       1.8  buzzer\n",
      "110  -110       1.8  buzzer\n",
      "112  -109       1.8  buzzer\n",
      "113  -102       1.8  buzzer\n"
     ]
    },
    {
     "data": {
      "text/html": [
       "<div>\n",
       "<style scoped>\n",
       "    .dataframe tbody tr th:only-of-type {\n",
       "        vertical-align: middle;\n",
       "    }\n",
       "\n",
       "    .dataframe tbody tr th {\n",
       "        vertical-align: top;\n",
       "    }\n",
       "\n",
       "    .dataframe thead th {\n",
       "        text-align: right;\n",
       "    }\n",
       "</style>\n",
       "<table border=\"1\" class=\"dataframe\">\n",
       "  <thead>\n",
       "    <tr style=\"text-align: right;\">\n",
       "      <th></th>\n",
       "      <th>RSSI</th>\n",
       "      <th>distance</th>\n",
       "      <th>tag</th>\n",
       "    </tr>\n",
       "  </thead>\n",
       "  <tbody>\n",
       "    <tr>\n",
       "      <th>89</th>\n",
       "      <td>-104</td>\n",
       "      <td>1.8</td>\n",
       "      <td>buzzer</td>\n",
       "    </tr>\n",
       "    <tr>\n",
       "      <th>110</th>\n",
       "      <td>-110</td>\n",
       "      <td>1.8</td>\n",
       "      <td>buzzer</td>\n",
       "    </tr>\n",
       "    <tr>\n",
       "      <th>112</th>\n",
       "      <td>-109</td>\n",
       "      <td>1.8</td>\n",
       "      <td>buzzer</td>\n",
       "    </tr>\n",
       "    <tr>\n",
       "      <th>113</th>\n",
       "      <td>-102</td>\n",
       "      <td>1.8</td>\n",
       "      <td>buzzer</td>\n",
       "    </tr>\n",
       "  </tbody>\n",
       "</table>\n",
       "</div>"
      ],
      "text/plain": [
       "     RSSI  distance     tag\n",
       "89   -104       1.8  buzzer\n",
       "110  -110       1.8  buzzer\n",
       "112  -109       1.8  buzzer\n",
       "113  -102       1.8  buzzer"
      ]
     },
     "execution_count": 58,
     "metadata": {},
     "output_type": "execute_result"
    }
   ],
   "source": [
    "d5 = []\n",
    "dt5 = np.array(dt)\n",
    "for i in dt5:\n",
    "    dist = i[1]\n",
    "    if dist == 1.8:\n",
    "        d5.append(int(i[0]))\n",
    "d5= np.array(d5)\n",
    "s=np.std(d5)\n",
    "m=np.mean(d5)\n",
    "d5=d5[(d5<=m-2*s) | (d5>=m+2*s)]\n",
    "data_ = dt[dt['RSSI'].isin(d5) & dt['distance'].isin([1.8])]\n",
    "print(len(data_))\n",
    "print(data_.head())\n",
    "data_"
   ]
  },
  {
   "cell_type": "code",
   "execution_count": 59,
   "id": "48fa1b8d",
   "metadata": {},
   "outputs": [
    {
     "data": {
      "text/plain": [
       "array([], dtype=int32)"
      ]
     },
     "execution_count": 59,
     "metadata": {},
     "output_type": "execute_result"
    }
   ],
   "source": [
    "d6 = []\n",
    "dt6 = np.array(dt)\n",
    "for i in dt6:\n",
    "    dist = i[1]\n",
    "    if dist == 1.9:\n",
    "        d6.append(int(i[0]))\n",
    "d6= np.array(d6)\n",
    "s=np.std(d6)\n",
    "m=np.mean(d6)\n",
    "d6[(d6<=m-2*s) | (d6>=m+2*s)]\n"
   ]
  },
  {
   "cell_type": "code",
   "execution_count": 80,
   "id": "5261681a",
   "metadata": {},
   "outputs": [
    {
     "data": {
      "text/plain": [
       "-82.45"
      ]
     },
     "execution_count": 80,
     "metadata": {},
     "output_type": "execute_result"
    }
   ],
   "source": [
    "d7 = []\n",
    "dt7 = np.array(dt)\n",
    "for i in dt7:\n",
    "    dist = i[1]\n",
    "    if dist == 2.0:\n",
    "        d7.append(int(i[0]))\n",
    "d7= np.array(d7)\n",
    "s=np.std(d7)\n",
    "m=np.mean(d7)\n",
    "d7[(d7<=m-2*s) | (d7>=m+2*s)]"
   ]
  },
  {
   "cell_type": "code",
   "execution_count": 61,
   "id": "b7f31630",
   "metadata": {},
   "outputs": [
    {
     "data": {
      "text/plain": [
       "array([], dtype=int32)"
      ]
     },
     "execution_count": 61,
     "metadata": {},
     "output_type": "execute_result"
    }
   ],
   "source": [
    "d8 = []\n",
    "dt8 = np.array(dt)\n",
    "for i in dt8:\n",
    "    dist = i[1]\n",
    "    if dist == 2.1:\n",
    "        d8.append(int(i[0]))\n",
    "d8= np.array(d8)\n",
    "s=np.std(d8)\n",
    "m=np.mean(d8)\n",
    "d8[(d8<=m-2*s) | (d8>=m+2*s)]\n"
   ]
  },
  {
   "cell_type": "code",
   "execution_count": 62,
   "id": "9bd31159",
   "metadata": {},
   "outputs": [
    {
     "name": "stderr",
     "output_type": "stream",
     "text": [
      "C:\\Users\\yyzll\\anaconda3\\lib\\site-packages\\numpy\\core\\_methods.py:261: RuntimeWarning: Degrees of freedom <= 0 for slice\n",
      "  ret = _var(a, axis=axis, dtype=dtype, out=out, ddof=ddof,\n",
      "C:\\Users\\yyzll\\anaconda3\\lib\\site-packages\\numpy\\core\\_methods.py:221: RuntimeWarning: invalid value encountered in true_divide\n",
      "  arrmean = um.true_divide(arrmean, div, out=arrmean, casting='unsafe',\n",
      "C:\\Users\\yyzll\\anaconda3\\lib\\site-packages\\numpy\\core\\_methods.py:253: RuntimeWarning: invalid value encountered in double_scalars\n",
      "  ret = ret.dtype.type(ret / rcount)\n",
      "C:\\Users\\yyzll\\anaconda3\\lib\\site-packages\\numpy\\core\\fromnumeric.py:3419: RuntimeWarning: Mean of empty slice.\n",
      "  return _methods._mean(a, axis=axis, dtype=dtype,\n",
      "C:\\Users\\yyzll\\anaconda3\\lib\\site-packages\\numpy\\core\\_methods.py:188: RuntimeWarning: invalid value encountered in double_scalars\n",
      "  ret = ret.dtype.type(ret / rcount)\n"
     ]
    },
    {
     "data": {
      "text/plain": [
       "array([], dtype=float64)"
      ]
     },
     "execution_count": 62,
     "metadata": {},
     "output_type": "execute_result"
    }
   ],
   "source": [
    "d9 = []\n",
    "dt9 = np.array(dt)\n",
    "for i in dt:\n",
    "    dist = i[1]\n",
    "    if dist == 2.2:\n",
    "        d9.append(int(i[0]))\n",
    "d9= np.array(d9)\n",
    "s=np.std(d9)\n",
    "m=np.mean(d9)\n",
    "d9[(d9<=m-2*s) | (d9>=m+2*s)]\n"
   ]
  },
  {
   "cell_type": "code",
   "execution_count": 63,
   "id": "9335f5d0",
   "metadata": {},
   "outputs": [
    {
     "name": "stdout",
     "output_type": "stream",
     "text": [
      "[-86]\n",
      "1\n",
      "     RSSI  distance   tag\n",
      "704   -86       2.3  none\n"
     ]
    },
    {
     "data": {
      "text/html": [
       "<div>\n",
       "<style scoped>\n",
       "    .dataframe tbody tr th:only-of-type {\n",
       "        vertical-align: middle;\n",
       "    }\n",
       "\n",
       "    .dataframe tbody tr th {\n",
       "        vertical-align: top;\n",
       "    }\n",
       "\n",
       "    .dataframe thead th {\n",
       "        text-align: right;\n",
       "    }\n",
       "</style>\n",
       "<table border=\"1\" class=\"dataframe\">\n",
       "  <thead>\n",
       "    <tr style=\"text-align: right;\">\n",
       "      <th></th>\n",
       "      <th>RSSI</th>\n",
       "      <th>distance</th>\n",
       "      <th>tag</th>\n",
       "    </tr>\n",
       "  </thead>\n",
       "  <tbody>\n",
       "    <tr>\n",
       "      <th>704</th>\n",
       "      <td>-86</td>\n",
       "      <td>2.3</td>\n",
       "      <td>none</td>\n",
       "    </tr>\n",
       "  </tbody>\n",
       "</table>\n",
       "</div>"
      ],
      "text/plain": [
       "     RSSI  distance   tag\n",
       "704   -86       2.3  none"
      ]
     },
     "execution_count": 63,
     "metadata": {},
     "output_type": "execute_result"
    }
   ],
   "source": [
    "d10 = []\n",
    "dt10 = np.array(dt)\n",
    "for i in dt10:\n",
    "    dist = i[1]\n",
    "    if dist == 2.3:\n",
    "        d10.append(int(i[0]))\n",
    "d10= np.array(d10)\n",
    "s=np.std(d10)\n",
    "m=np.mean(d10)\n",
    "d10=d10[(d10<=m-2*s) | (d10>=m+2*s)]\n",
    "print(d10)\n",
    "data_ = dt[dt['RSSI'].isin(d10) & dt['distance'].isin([2.3])]\n",
    "print(len(data_))\n",
    "print(data_.head())\n",
    "data_"
   ]
  },
  {
   "cell_type": "code",
   "execution_count": 64,
   "id": "5bd8bd79",
   "metadata": {},
   "outputs": [
    {
     "name": "stdout",
     "output_type": "stream",
     "text": [
      "[-101  -97 -103 -100  -96  -61]\n",
      "6\n",
      "     RSSI  distance   tag\n",
      "239  -101       2.5  none\n",
      "240   -97       2.5  none\n",
      "242  -103       2.5  none\n",
      "254  -100       2.5  none\n",
      "259   -96       2.5  none\n"
     ]
    },
    {
     "data": {
      "text/html": [
       "<div>\n",
       "<style scoped>\n",
       "    .dataframe tbody tr th:only-of-type {\n",
       "        vertical-align: middle;\n",
       "    }\n",
       "\n",
       "    .dataframe tbody tr th {\n",
       "        vertical-align: top;\n",
       "    }\n",
       "\n",
       "    .dataframe thead th {\n",
       "        text-align: right;\n",
       "    }\n",
       "</style>\n",
       "<table border=\"1\" class=\"dataframe\">\n",
       "  <thead>\n",
       "    <tr style=\"text-align: right;\">\n",
       "      <th></th>\n",
       "      <th>RSSI</th>\n",
       "      <th>distance</th>\n",
       "      <th>tag</th>\n",
       "    </tr>\n",
       "  </thead>\n",
       "  <tbody>\n",
       "    <tr>\n",
       "      <th>239</th>\n",
       "      <td>-101</td>\n",
       "      <td>2.5</td>\n",
       "      <td>none</td>\n",
       "    </tr>\n",
       "    <tr>\n",
       "      <th>240</th>\n",
       "      <td>-97</td>\n",
       "      <td>2.5</td>\n",
       "      <td>none</td>\n",
       "    </tr>\n",
       "    <tr>\n",
       "      <th>242</th>\n",
       "      <td>-103</td>\n",
       "      <td>2.5</td>\n",
       "      <td>none</td>\n",
       "    </tr>\n",
       "    <tr>\n",
       "      <th>254</th>\n",
       "      <td>-100</td>\n",
       "      <td>2.5</td>\n",
       "      <td>none</td>\n",
       "    </tr>\n",
       "    <tr>\n",
       "      <th>259</th>\n",
       "      <td>-96</td>\n",
       "      <td>2.5</td>\n",
       "      <td>none</td>\n",
       "    </tr>\n",
       "    <tr>\n",
       "      <th>431</th>\n",
       "      <td>-61</td>\n",
       "      <td>2.5</td>\n",
       "      <td>buzzer</td>\n",
       "    </tr>\n",
       "  </tbody>\n",
       "</table>\n",
       "</div>"
      ],
      "text/plain": [
       "     RSSI  distance     tag\n",
       "239  -101       2.5    none\n",
       "240   -97       2.5    none\n",
       "242  -103       2.5    none\n",
       "254  -100       2.5    none\n",
       "259   -96       2.5    none\n",
       "431   -61       2.5  buzzer"
      ]
     },
     "execution_count": 64,
     "metadata": {},
     "output_type": "execute_result"
    }
   ],
   "source": [
    "d11 = []\n",
    "dt11 = np.array(dt)\n",
    "for i in dt11:\n",
    "    dist = i[1]\n",
    "    if dist == 2.5:\n",
    "        d11.append(int(i[0]))\n",
    "d11= np.array(d11)\n",
    "s=np.std(d11)\n",
    "m=np.mean(d11)\n",
    "d11 = d11[(d11<=m-2*s) | (d11>=m+2*s)]\n",
    "print(d11)\n",
    "data_ = dt[dt['RSSI'].isin(d11) & dt['distance'].isin([2.5])]\n",
    "print(len(data_))\n",
    "print(data_.head())\n",
    "data_"
   ]
  },
  {
   "cell_type": "code",
   "execution_count": null,
   "id": "ab9fbd52",
   "metadata": {},
   "outputs": [],
   "source": []
  },
  {
   "cell_type": "code",
   "execution_count": 13,
   "id": "84623db8",
   "metadata": {},
   "outputs": [
    {
     "data": {
      "text/plain": [
       "0     -73\n",
       "1     -74\n",
       "2     -75\n",
       "3     -74\n",
       "4     -71\n",
       "       ..\n",
       "772   -79\n",
       "773   -79\n",
       "774   -70\n",
       "775   -76\n",
       "776   -77\n",
       "Name: RSSI, Length: 777, dtype: int64"
      ]
     },
     "execution_count": 13,
     "metadata": {},
     "output_type": "execute_result"
    }
   ],
   "source": [
    "array = dt.RSSI\n",
    "array"
   ]
  },
  {
   "cell_type": "code",
   "execution_count": null,
   "id": "30ce4def",
   "metadata": {},
   "outputs": [],
   "source": []
  },
  {
   "cell_type": "code",
   "execution_count": 14,
   "id": "bab51476",
   "metadata": {},
   "outputs": [
    {
     "data": {
      "text/plain": [
       "0    -73\n",
       "1    -74\n",
       "2    -75\n",
       "3    -74\n",
       "4    -71\n",
       "5    -74\n",
       "6    -73\n",
       "7    -72\n",
       "8    -77\n",
       "9    -73\n",
       "10   -71\n",
       "11   -75\n",
       "12   -73\n",
       "13   -72\n",
       "14   -74\n",
       "15   -74\n",
       "16   -73\n",
       "17   -72\n",
       "18   -74\n",
       "19   -76\n",
       "20   -73\n",
       "21   -77\n",
       "22   -76\n",
       "23   -72\n",
       "24   -74\n",
       "25   -77\n",
       "26   -73\n",
       "27   -76\n",
       "28   -74\n",
       "Name: RSSI, dtype: int64"
      ]
     },
     "execution_count": 14,
     "metadata": {},
     "output_type": "execute_result"
    }
   ],
   "source": [
    "a1 = array[0:29]\n",
    "s=np.std(a1)\n",
    "m=np.mean(a1)\n",
    "a1[(a1<=m-2*s) | (a1>=m+2*s)]\n",
    "a1"
   ]
  },
  {
   "cell_type": "code",
   "execution_count": 15,
   "id": "3b5bc7f0",
   "metadata": {},
   "outputs": [
    {
     "data": {
      "text/plain": [
       "29   -81\n",
       "30   -78\n",
       "31   -79\n",
       "32   -84\n",
       "33   -82\n",
       "34   -83\n",
       "35   -79\n",
       "36   -76\n",
       "37   -80\n",
       "38   -87\n",
       "39   -81\n",
       "40   -83\n",
       "41   -85\n",
       "42   -84\n",
       "43   -87\n",
       "44   -81\n",
       "45   -80\n",
       "46   -76\n",
       "47   -81\n",
       "48   -88\n",
       "49   -79\n",
       "50   -79\n",
       "51   -82\n",
       "52   -90\n",
       "53   -86\n",
       "54   -90\n",
       "55   -92\n",
       "56   -87\n",
       "Name: RSSI, dtype: int64"
      ]
     },
     "execution_count": 15,
     "metadata": {},
     "output_type": "execute_result"
    }
   ],
   "source": [
    "a2 = array[29:57]\n",
    "s=np.std(a2)\n",
    "m=np.mean(a2)\n",
    "a2[(a2<=m-2*s) | (a2>=m+2*s)]\n",
    "a2"
   ]
  },
  {
   "cell_type": "code",
   "execution_count": 16,
   "id": "a2db548a",
   "metadata": {},
   "outputs": [
    {
     "data": {
      "text/plain": [
       "57   -84\n",
       "58   -79\n",
       "59   -78\n",
       "60   -78\n",
       "61   -79\n",
       "62   -74\n",
       "63   -79\n",
       "64   -75\n",
       "65   -75\n",
       "66   -73\n",
       "67   -80\n",
       "68   -81\n",
       "69   -79\n",
       "70   -76\n",
       "71   -79\n",
       "72   -80\n",
       "73   -76\n",
       "74   -80\n",
       "75   -77\n",
       "76   -75\n",
       "77   -76\n",
       "78   -84\n",
       "79   -81\n",
       "80   -75\n",
       "81   -77\n",
       "82   -80\n",
       "83   -80\n",
       "84   -83\n",
       "Name: RSSI, dtype: int64"
      ]
     },
     "execution_count": 16,
     "metadata": {},
     "output_type": "execute_result"
    }
   ],
   "source": [
    "a3 = array[57:85]\n",
    "\n",
    "s=np.std(a3)\n",
    "m=np.mean(a3)\n",
    "a3[(a3<=m-2*s) | (a3>=m+2*s)]\n",
    "a3"
   ]
  },
  {
   "cell_type": "code",
   "execution_count": 17,
   "id": "63114c8d",
   "metadata": {},
   "outputs": [
    {
     "data": {
      "text/plain": [
       "110   -110\n",
       "112   -109\n",
       "Name: RSSI, dtype: int64"
      ]
     },
     "execution_count": 17,
     "metadata": {},
     "output_type": "execute_result"
    }
   ],
   "source": [
    "a4 = array[88:116]\n",
    "s=np.std(a4)\n",
    "m=np.mean(a4)\n",
    "a=a4\n",
    "len(a4)\n",
    "a4[(a4<=m-2*s) | (a4>=m+2*s)]"
   ]
  },
  {
   "cell_type": "code",
   "execution_count": 18,
   "id": "165b058c",
   "metadata": {},
   "outputs": [
    {
     "data": {
      "text/plain": [
       "125   -80\n",
       "Name: RSSI, dtype: int64"
      ]
     },
     "execution_count": 18,
     "metadata": {},
     "output_type": "execute_result"
    }
   ],
   "source": [
    "a5 = array[117:145]\n",
    "a5\n",
    "s=np.std(a5)\n",
    "m=np.mean(a5)\n",
    "\n",
    "a5[(a5<=m-2*s) | (a5>=m+2*s)]"
   ]
  },
  {
   "cell_type": "code",
   "execution_count": 19,
   "id": "35cd9d64",
   "metadata": {},
   "outputs": [
    {
     "data": {
      "text/plain": [
       "155   -79\n",
       "167   -98\n",
       "Name: RSSI, dtype: int64"
      ]
     },
     "execution_count": 19,
     "metadata": {},
     "output_type": "execute_result"
    }
   ],
   "source": [
    "a6 = array[146:174]\n",
    "s=np.std(a6)\n",
    "m=np.mean(a6)\n",
    "\n",
    "a6[(a6<=m-2*s) | (a6>=m+2*s)]"
   ]
  },
  {
   "cell_type": "code",
   "execution_count": 20,
   "id": "1b0a0c17",
   "metadata": {},
   "outputs": [
    {
     "data": {
      "text/plain": [
       "192   -74\n",
       "Name: RSSI, dtype: int64"
      ]
     },
     "execution_count": 20,
     "metadata": {},
     "output_type": "execute_result"
    }
   ],
   "source": [
    "a7 = array[175:203]\n",
    "s=np.std(a7)\n",
    "m=np.mean(a7)\n",
    "\n",
    "a7[(a7<=m-2*s) | (a7>=m+2*s)]"
   ]
  },
  {
   "cell_type": "code",
   "execution_count": 21,
   "id": "51dc1636",
   "metadata": {},
   "outputs": [
    {
     "data": {
      "text/plain": [
       "210   -96\n",
       "Name: RSSI, dtype: int64"
      ]
     },
     "execution_count": 21,
     "metadata": {},
     "output_type": "execute_result"
    }
   ],
   "source": [
    "a8 = array[204:232]\n",
    "s=np.std(a8)\n",
    "m=np.mean(a8)\n",
    "\n",
    "a8[(a8<=m-2*s) | (a8>=m+2*s)]"
   ]
  },
  {
   "cell_type": "code",
   "execution_count": 22,
   "id": "f936c971",
   "metadata": {},
   "outputs": [
    {
     "data": {
      "text/plain": [
       "239   -101\n",
       "242   -103\n",
       "Name: RSSI, dtype: int64"
      ]
     },
     "execution_count": 22,
     "metadata": {},
     "output_type": "execute_result"
    }
   ],
   "source": [
    "a9 = array[233:261]\n",
    "s=np.std(a9)\n",
    "m=np.mean(a9)\n",
    "\n",
    "a9[(a9<=m-2*s) | (a9>=m+2*s)]"
   ]
  },
  {
   "cell_type": "code",
   "execution_count": 85,
   "id": "98ed6b14",
   "metadata": {},
   "outputs": [
    {
     "data": {
      "image/png": "[encoded data removed]",
      "text/plain": [
       "<Figure size 432x288 with 1 Axes>"
      ]
     },
     "metadata": {
      "needs_background": "light"
     },
     "output_type": "display_data"
    }
   ],
   "source": [
    "plt.scatter(RSSI, distance)\n",
    "plt.show()"
   ]
  },
  {
   "cell_type": "code",
   "execution_count": 86,
   "id": "b461475c",
   "metadata": {},
   "outputs": [
    {
     "name": "stderr",
     "output_type": "stream",
     "text": [
      "C:\\Users\\yyzll\\anaconda3\\lib\\site-packages\\sklearn\\preprocessing\\_label.py:115: DataConversionWarning: A column-vector y was passed when a 1d array was expected. Please change the shape of y to (n_samples, ), for example using ravel().\n",
      "  y = column_or_1d(y, warn=True)\n"
     ]
    }
   ],
   "source": [
    "# Import LabelEncoder\n",
    "from sklearn import preprocessing\n",
    "#creating labelEncoder\n",
    "le = preprocessing.LabelEncoder()\n",
    "# Converting string labels into numbers.\n",
    "distance_encoded=le.fit_transform(tag)"
   ]
  },
  {
   "cell_type": "code",
   "execution_count": 87,
   "id": "ef49e20c",
   "metadata": {},
   "outputs": [
    {
     "data": {
      "text/plain": [
       "array([0, 0, 0, 0, 0, 0, 0, 0, 0, 0, 0, 0, 0, 0, 0, 0, 0, 0, 0, 0, 0, 0,\n",
       "       0, 0, 0, 0, 0, 0, 0, 0, 0, 0, 0, 0, 0, 0, 0, 0, 0, 0, 0, 0, 0, 0,\n",
       "       0, 0, 0, 0, 0, 0, 0, 0, 0, 0, 0, 0, 0, 0, 0, 0, 0, 0, 0, 0, 0, 0,\n",
       "       0, 0, 0, 0, 0, 0, 0, 0, 0, 0, 0, 0, 0, 0, 0, 0, 0, 0, 0, 0, 0, 0,\n",
       "       0, 0, 0, 0, 0, 0, 0, 0, 0, 0, 0, 0, 0, 0, 0, 0, 0, 0, 0, 0, 0, 0,\n",
       "       0, 1, 1, 1, 1, 1, 1, 1, 1, 1, 1, 1, 1, 1, 1, 1, 1, 1, 1, 1, 1, 1,\n",
       "       1, 1, 1, 1, 1, 1, 1, 1, 1, 1, 1, 1, 1, 1, 1, 1, 1, 1, 1, 1, 1, 1,\n",
       "       1, 1, 1, 1, 1, 1, 1, 1, 1, 1, 1, 1, 1, 1, 1, 1, 1, 1, 1, 1, 1, 1,\n",
       "       1, 1, 1, 1, 1, 1, 1, 1, 1, 1, 1, 1, 1, 1, 1, 1, 1, 1, 1, 1, 1, 1,\n",
       "       1, 1, 1, 1, 1, 1, 1, 1, 1, 1, 1, 1, 1, 1, 1, 1, 1, 1, 1, 1, 1, 1,\n",
       "       1, 1, 1, 1, 1, 1, 1, 1, 1, 1, 1, 1, 1, 1, 1, 1, 1, 1, 1, 1, 1, 1,\n",
       "       1, 1, 1, 1, 1, 1, 1, 1, 1, 0, 0, 0, 0, 0, 0, 0, 0, 0, 0, 0, 0, 0,\n",
       "       0, 0, 0, 0, 0, 0, 0, 0, 0, 0, 0, 0, 0, 0, 0, 0, 0, 0, 0, 0, 0, 0,\n",
       "       0, 0, 0, 0, 0, 0, 0, 0, 0, 0, 0, 0, 0, 0, 0, 0, 0, 0, 0, 0, 0, 0,\n",
       "       0, 0, 0, 0, 0, 0, 0, 0, 0, 0, 0, 0, 0, 0, 0, 0, 0, 0, 0, 0, 0, 0,\n",
       "       0, 0, 0, 0, 0, 0, 0, 0, 0, 0, 0, 0, 0, 0, 0, 0, 0, 0, 0, 0, 0, 0,\n",
       "       0, 0, 0, 0, 0, 0, 0, 0, 0, 0, 0, 0, 0, 0, 0, 0, 0, 0, 0, 0, 0, 0,\n",
       "       0, 0, 0, 0, 0, 0, 0, 0, 0, 0, 0, 0, 0, 0, 0, 0, 0, 0, 0, 0, 0, 0,\n",
       "       0, 0, 0, 0, 0, 0, 0, 0, 0, 0, 0, 0, 0, 0, 0, 0, 0, 0, 0, 0, 0, 0,\n",
       "       0, 0, 0, 0, 0, 0, 0, 0, 0, 0, 0, 0, 0, 0, 0, 0, 0, 0, 0, 0, 0, 0,\n",
       "       0, 0, 0, 0, 0, 0, 0, 0, 0, 0, 0, 0, 0, 0, 0, 0, 0, 0, 0, 0, 0, 0,\n",
       "       0, 0, 0, 0, 0, 0, 0, 0, 0, 0, 0, 0, 0, 0, 0, 0, 0, 0, 0, 0, 0, 0,\n",
       "       0, 0, 0, 0, 0, 0, 0, 0, 0, 0, 0, 0, 0, 0, 0, 0, 0, 0, 0, 0, 0, 0,\n",
       "       0, 0, 0, 0, 0, 0, 0, 0, 0, 0, 0, 0, 0, 0, 0, 0, 0, 0, 0, 0, 0, 0,\n",
       "       0, 0, 0, 0, 0, 0, 0, 0, 0, 0, 0, 0, 0, 0, 0, 0, 0, 0, 0, 0, 0, 0,\n",
       "       1, 1, 1, 1, 1, 1, 1, 1, 1, 1, 1, 1, 1, 1, 1, 1, 1, 1, 1, 1, 1, 1,\n",
       "       1, 1, 1, 1, 1, 1, 1, 1, 1, 1, 1, 1, 1, 1, 1, 1, 1, 1, 1, 1, 1, 1,\n",
       "       1, 1, 1, 1, 1, 1, 1, 1, 1, 1, 1, 1, 1, 1, 1, 1, 1, 1, 1, 1, 1, 1,\n",
       "       1, 1, 1, 1, 1, 1, 1, 1, 1, 1, 1, 1, 1, 1, 1, 1, 1, 1, 1, 1, 1, 1,\n",
       "       1, 1, 1, 1, 1, 1, 1, 1, 1, 1, 1, 1, 1, 1, 1, 1, 1, 1, 1, 1, 1, 1,\n",
       "       1, 1, 1, 1, 1, 1, 1, 1, 1, 1, 1, 1, 1, 1, 1, 1, 1, 1, 1, 1, 1, 1,\n",
       "       1, 1, 1, 1, 1, 1, 1, 1, 1, 1, 1, 1, 1, 1, 1, 1, 1, 1, 1, 1, 1, 1,\n",
       "       1, 1, 1, 1, 1, 1, 1, 1, 1, 1, 1, 1, 1, 1, 1, 1, 1, 1, 1, 1, 1, 1,\n",
       "       1, 1, 1, 1, 1, 1, 1, 1, 1, 1, 1, 1, 1, 1, 1, 1, 1, 1, 1, 1, 1, 1,\n",
       "       1, 1, 1, 1, 1, 1, 1, 1, 1, 1, 1, 1, 1, 1, 1, 1, 1], dtype=int64)"
      ]
     },
     "execution_count": 87,
     "metadata": {},
     "output_type": "execute_result"
    }
   ],
   "source": [
    "distance_encoded"
   ]
  },
  {
   "cell_type": "code",
   "execution_count": 88,
   "id": "95471ca0",
   "metadata": {},
   "outputs": [],
   "source": [
    "from sklearn.model_selection import train_test_split\n",
    "\n",
    "X_train, X_test, y_train, y_test = train_test_split( RSSI, distance_encoded, random_state = 100)"
   ]
  },
  {
   "cell_type": "code",
   "execution_count": 89,
   "id": "61c4705b",
   "metadata": {},
   "outputs": [
    {
     "data": {
      "text/plain": [
       "[[-88],\n",
       " [-46],\n",
       " [-88],\n",
       " [-66],\n",
       " [-89],\n",
       " [-42],\n",
       " [-89],\n",
       " [-69],\n",
       " [-78],\n",
       " [-71],\n",
       " [-72],\n",
       " [-92],\n",
       " [-81],\n",
       " [-75],\n",
       " [-83],\n",
       " [-74],\n",
       " [-91],\n",
       " [-76],\n",
       " [-89],\n",
       " [-76],\n",
       " [-76],\n",
       " [-92],\n",
       " [-56],\n",
       " [-68],\n",
       " [-74],\n",
       " [-80],\n",
       " [-58],\n",
       " [-75],\n",
       " [-97],\n",
       " [-51],\n",
       " [-63],\n",
       " [-89],\n",
       " [-70],\n",
       " [-73],\n",
       " [-95],\n",
       " [-39],\n",
       " [-81],\n",
       " [-71],\n",
       " [-68],\n",
       " [-70],\n",
       " [-88],\n",
       " [-75],\n",
       " [-75],\n",
       " [-75],\n",
       " [-81],\n",
       " [-51],\n",
       " [-66],\n",
       " [-71],\n",
       " [-86],\n",
       " [-59],\n",
       " [-77],\n",
       " [-84],\n",
       " [-87],\n",
       " [-70],\n",
       " [-85],\n",
       " [-97],\n",
       " [-90],\n",
       " [-73],\n",
       " [-65],\n",
       " [-89],\n",
       " [-70],\n",
       " [-81],\n",
       " [-72],\n",
       " [-75],\n",
       " [-74],\n",
       " [-74],\n",
       " [-79],\n",
       " [-98],\n",
       " [-84],\n",
       " [-76],\n",
       " [-69],\n",
       " [-74],\n",
       " [-78],\n",
       " [-66],\n",
       " [-69],\n",
       " [-71],\n",
       " [-84],\n",
       " [-89],\n",
       " [-75],\n",
       " [-72],\n",
       " [-74],\n",
       " [-79],\n",
       " [-92],\n",
       " [-64],\n",
       " [-90],\n",
       " [-86],\n",
       " [-64],\n",
       " [-92],\n",
       " [-87],\n",
       " [-41],\n",
       " [-69],\n",
       " [-66],\n",
       " [-76],\n",
       " [-60],\n",
       " [-73],\n",
       " [-72],\n",
       " [-51],\n",
       " [-73],\n",
       " [-96],\n",
       " [-74],\n",
       " [-66],\n",
       " [-76],\n",
       " [-81],\n",
       " [-90],\n",
       " [-69],\n",
       " [-63],\n",
       " [-95],\n",
       " [-69],\n",
       " [-80],\n",
       " [-78],\n",
       " [-68],\n",
       " [-68],\n",
       " [-85],\n",
       " [-69],\n",
       " [-94],\n",
       " [-90],\n",
       " [-76],\n",
       " [-64],\n",
       " [-71],\n",
       " [-68],\n",
       " [-41],\n",
       " [-73],\n",
       " [-86],\n",
       " [-88],\n",
       " [-68],\n",
       " [-96],\n",
       " [-89],\n",
       " [-79],\n",
       " [-84],\n",
       " [-43],\n",
       " [-70],\n",
       " [-71],\n",
       " [-70],\n",
       " [-77],\n",
       " [-72],\n",
       " [-90],\n",
       " [-70],\n",
       " [-41],\n",
       " [-77],\n",
       " [-93],\n",
       " [-87],\n",
       " [-76],\n",
       " [-86],\n",
       " [-79],\n",
       " [-83],\n",
       " [-76],\n",
       " [-91],\n",
       " [-87],\n",
       " [-70],\n",
       " [-84],\n",
       " [-90],\n",
       " [-70],\n",
       " [-65],\n",
       " [-88],\n",
       " [-64],\n",
       " [-79],\n",
       " [-82],\n",
       " [-88],\n",
       " [-78],\n",
       " [-50],\n",
       " [-96],\n",
       " [-60],\n",
       " [-97],\n",
       " [-78],\n",
       " [-74],\n",
       " [-84],\n",
       " [-71],\n",
       " [-71],\n",
       " [-48],\n",
       " [-69],\n",
       " [-91],\n",
       " [-91],\n",
       " [-66],\n",
       " [-74],\n",
       " [-63],\n",
       " [-71],\n",
       " [-76],\n",
       " [-94],\n",
       " [-66],\n",
       " [-69],\n",
       " [-81],\n",
       " [-42],\n",
       " [-73],\n",
       " [-57],\n",
       " [-79],\n",
       " [-74],\n",
       " [-60],\n",
       " [-80],\n",
       " [-50],\n",
       " [-73],\n",
       " [-70],\n",
       " [-70]]"
      ]
     },
     "execution_count": 89,
     "metadata": {},
     "output_type": "execute_result"
    }
   ],
   "source": [
    "KNeighborsClassifier(\n",
    "    n_neighbors=5,          # The number of neighbours to consider            # How many parallel jobs to run\n",
    ")\n",
    "clf = KNeighborsClassifier()\n",
    "clf.fit(X_train, y_train)\n",
    "predictions = clf.predict(X_test)\n",
    "X_test"
   ]
  },
  {
   "cell_type": "code",
   "execution_count": 91,
   "id": "37461134",
   "metadata": {},
   "outputs": [
    {
     "data": {
      "text/plain": [
       "array([1, 0, 1, 1, 1, 0, 1, 0, 0, 1, 1, 1, 1, 1, 1, 0, 1, 0, 1, 0, 0, 1,\n",
       "       0, 0, 0, 1, 0, 1, 1, 0, 0, 1, 0, 1, 1, 0, 1, 1, 0, 0, 1, 1, 1, 1,\n",
       "       1, 0, 1, 1, 1, 0, 1, 0, 1, 0, 1, 1, 1, 1, 0, 1, 0, 1, 1, 1, 0, 0,\n",
       "       1, 1, 0, 0, 0, 0, 0, 1, 0, 1, 0, 1, 1, 1, 0, 1, 1, 0, 1, 1, 0, 1,\n",
       "       1, 0, 0, 1, 0, 0, 1, 1, 0, 1, 1, 0, 1, 0, 1, 1, 0, 0, 1, 0, 1, 0,\n",
       "       0, 0, 1, 0, 1, 1, 0, 0, 1, 0, 0, 1, 1, 1, 0, 1, 1, 1, 0, 0, 0, 1,\n",
       "       0, 1, 1, 1, 0, 0, 1, 1, 1, 0, 1, 1, 1, 0, 1, 1, 0, 0, 1, 0, 0, 1,\n",
       "       0, 1, 1, 1, 0, 0, 1, 0, 1, 0, 0, 0, 1, 1, 0, 0, 1, 1, 1, 0, 0, 1,\n",
       "       0, 1, 1, 0, 1, 0, 1, 0, 1, 0, 0, 1, 0, 1, 0, 0], dtype=int64)"
      ]
     },
     "execution_count": 91,
     "metadata": {},
     "output_type": "execute_result"
    }
   ],
   "source": [
    "predictions"
   ]
  },
  {
   "cell_type": "code",
   "execution_count": 92,
   "id": "94df5972",
   "metadata": {},
   "outputs": [
    {
     "name": "stdout",
     "output_type": "stream",
     "text": [
      "0.609375\n"
     ]
    }
   ],
   "source": [
    "from sklearn.metrics import accuracy_score\n",
    "print(accuracy_score(y_test, predictions))\n",
    "s1 = accuracy_score(y_test, predictions)"
   ]
  },
  {
   "cell_type": "code",
   "execution_count": null,
   "id": "e11730e4",
   "metadata": {},
   "outputs": [],
   "source": []
  }
 ],
 "metadata": {
  "kernelspec": {
   "display_name": "Python 3 (ipykernel)",
   "language": "python",
   "name": "python3"
  },
  "language_info": {
   "codemirror_mode": {
    "name": "ipython",
    "version": 3
   },
   "file_extension": ".py",
   "mimetype": "text/x-python",
   "name": "python",
   "nbconvert_exporter": "python",
   "pygments_lexer": "ipython3",
   "version": "3.9.7"
  }
 },
 "nbformat": 4,
 "nbformat_minor": 5
}
